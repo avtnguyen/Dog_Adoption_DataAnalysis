{
  "cells": [
    {
      "cell_type": "markdown",
      "source": [
        "# Dog Adoption Data Analysis"
      ],
      "metadata": {
        "id": "CKLQlKij1dyo"
      }
    },
    {
      "cell_type": "markdown",
      "source": [
        "This project was motivated by my love for dog and my passion to improve the dog adoption process. The data used in here was obtained from [Kaggle site](https://www.kaggle.com/datasets/whenamancodes/dog-adoption).\n",
        "\n",
        "1. Information about the data: This dataset of adoptable dogs in the US was collected to better understand how animals are relocated from state to state and imported from outside the US. The data includes information on over 3,000 dogs that were described as having originated in places different from where they were listed for adoption. The findings were published in a visual essay on The Pudding entitled Finding Forever Homes published in October 2019. This dataset is a snapshot of data collected on a single day and does not include all adoptable dogs in the US. However, it provides valuable insights into the whereabouts of these animals and the journey they take to find their forever homes [Source: Kaggle](https://www.kaggle.com/datasets/whenamancodes/dog-adoption)\n",
        "\n",
        "2. Goal: This project will gain insights on dog adoption situation in USA and answer the following questions:\n",
        "- What types and breed of dog are brought into shelters across the USA in a given year?\n",
        "- Which states have the most imports of dogs and what breeds/types those are? Does it have anything to do with the population in each states?\n",
        "- Are there any trends in the types/breeds of dogs being brought into shelters?"
      ],
      "metadata": {
        "id": "8683LyEs5A3U"
      }
    },
    {
      "cell_type": "markdown",
      "source": [
        "###Import the required library and the dataset"
      ],
      "metadata": {
        "id": "iqgqFufv6qcL"
      }
    },
    {
      "cell_type": "code",
      "source": [
        "#Upload data file:\n",
        "from google.colab import files\n",
        "uploaded = files.upload()"
      ],
      "metadata": {
        "colab": {
          "base_uri": "https://localhost:8080/",
          "height": 211
        },
        "id": "F9CB1zI921wZ",
        "outputId": "0d678e4b-11c9-4242-ac37-611a498d113f"
      },
      "execution_count": 40,
      "outputs": [
        {
          "output_type": "display_data",
          "data": {
            "text/plain": [
              "<IPython.core.display.HTML object>"
            ],
            "text/html": [
              "\n",
              "     <input type=\"file\" id=\"files-f5141473-3ef2-4621-9041-41f9e2f66ec5\" name=\"files[]\" multiple disabled\n",
              "        style=\"border:none\" />\n",
              "     <output id=\"result-f5141473-3ef2-4621-9041-41f9e2f66ec5\">\n",
              "      Upload widget is only available when the cell has been executed in the\n",
              "      current browser session. Please rerun this cell to enable.\n",
              "      </output>\n",
              "      <script>// Copyright 2017 Google LLC\n",
              "//\n",
              "// Licensed under the Apache License, Version 2.0 (the \"License\");\n",
              "// you may not use this file except in compliance with the License.\n",
              "// You may obtain a copy of the License at\n",
              "//\n",
              "//      http://www.apache.org/licenses/LICENSE-2.0\n",
              "//\n",
              "// Unless required by applicable law or agreed to in writing, software\n",
              "// distributed under the License is distributed on an \"AS IS\" BASIS,\n",
              "// WITHOUT WARRANTIES OR CONDITIONS OF ANY KIND, either express or implied.\n",
              "// See the License for the specific language governing permissions and\n",
              "// limitations under the License.\n",
              "\n",
              "/**\n",
              " * @fileoverview Helpers for google.colab Python module.\n",
              " */\n",
              "(function(scope) {\n",
              "function span(text, styleAttributes = {}) {\n",
              "  const element = document.createElement('span');\n",
              "  element.textContent = text;\n",
              "  for (const key of Object.keys(styleAttributes)) {\n",
              "    element.style[key] = styleAttributes[key];\n",
              "  }\n",
              "  return element;\n",
              "}\n",
              "\n",
              "// Max number of bytes which will be uploaded at a time.\n",
              "const MAX_PAYLOAD_SIZE = 100 * 1024;\n",
              "\n",
              "function _uploadFiles(inputId, outputId) {\n",
              "  const steps = uploadFilesStep(inputId, outputId);\n",
              "  const outputElement = document.getElementById(outputId);\n",
              "  // Cache steps on the outputElement to make it available for the next call\n",
              "  // to uploadFilesContinue from Python.\n",
              "  outputElement.steps = steps;\n",
              "\n",
              "  return _uploadFilesContinue(outputId);\n",
              "}\n",
              "\n",
              "// This is roughly an async generator (not supported in the browser yet),\n",
              "// where there are multiple asynchronous steps and the Python side is going\n",
              "// to poll for completion of each step.\n",
              "// This uses a Promise to block the python side on completion of each step,\n",
              "// then passes the result of the previous step as the input to the next step.\n",
              "function _uploadFilesContinue(outputId) {\n",
              "  const outputElement = document.getElementById(outputId);\n",
              "  const steps = outputElement.steps;\n",
              "\n",
              "  const next = steps.next(outputElement.lastPromiseValue);\n",
              "  return Promise.resolve(next.value.promise).then((value) => {\n",
              "    // Cache the last promise value to make it available to the next\n",
              "    // step of the generator.\n",
              "    outputElement.lastPromiseValue = value;\n",
              "    return next.value.response;\n",
              "  });\n",
              "}\n",
              "\n",
              "/**\n",
              " * Generator function which is called between each async step of the upload\n",
              " * process.\n",
              " * @param {string} inputId Element ID of the input file picker element.\n",
              " * @param {string} outputId Element ID of the output display.\n",
              " * @return {!Iterable<!Object>} Iterable of next steps.\n",
              " */\n",
              "function* uploadFilesStep(inputId, outputId) {\n",
              "  const inputElement = document.getElementById(inputId);\n",
              "  inputElement.disabled = false;\n",
              "\n",
              "  const outputElement = document.getElementById(outputId);\n",
              "  outputElement.innerHTML = '';\n",
              "\n",
              "  const pickedPromise = new Promise((resolve) => {\n",
              "    inputElement.addEventListener('change', (e) => {\n",
              "      resolve(e.target.files);\n",
              "    });\n",
              "  });\n",
              "\n",
              "  const cancel = document.createElement('button');\n",
              "  inputElement.parentElement.appendChild(cancel);\n",
              "  cancel.textContent = 'Cancel upload';\n",
              "  const cancelPromise = new Promise((resolve) => {\n",
              "    cancel.onclick = () => {\n",
              "      resolve(null);\n",
              "    };\n",
              "  });\n",
              "\n",
              "  // Wait for the user to pick the files.\n",
              "  const files = yield {\n",
              "    promise: Promise.race([pickedPromise, cancelPromise]),\n",
              "    response: {\n",
              "      action: 'starting',\n",
              "    }\n",
              "  };\n",
              "\n",
              "  cancel.remove();\n",
              "\n",
              "  // Disable the input element since further picks are not allowed.\n",
              "  inputElement.disabled = true;\n",
              "\n",
              "  if (!files) {\n",
              "    return {\n",
              "      response: {\n",
              "        action: 'complete',\n",
              "      }\n",
              "    };\n",
              "  }\n",
              "\n",
              "  for (const file of files) {\n",
              "    const li = document.createElement('li');\n",
              "    li.append(span(file.name, {fontWeight: 'bold'}));\n",
              "    li.append(span(\n",
              "        `(${file.type || 'n/a'}) - ${file.size} bytes, ` +\n",
              "        `last modified: ${\n",
              "            file.lastModifiedDate ? file.lastModifiedDate.toLocaleDateString() :\n",
              "                                    'n/a'} - `));\n",
              "    const percent = span('0% done');\n",
              "    li.appendChild(percent);\n",
              "\n",
              "    outputElement.appendChild(li);\n",
              "\n",
              "    const fileDataPromise = new Promise((resolve) => {\n",
              "      const reader = new FileReader();\n",
              "      reader.onload = (e) => {\n",
              "        resolve(e.target.result);\n",
              "      };\n",
              "      reader.readAsArrayBuffer(file);\n",
              "    });\n",
              "    // Wait for the data to be ready.\n",
              "    let fileData = yield {\n",
              "      promise: fileDataPromise,\n",
              "      response: {\n",
              "        action: 'continue',\n",
              "      }\n",
              "    };\n",
              "\n",
              "    // Use a chunked sending to avoid message size limits. See b/62115660.\n",
              "    let position = 0;\n",
              "    do {\n",
              "      const length = Math.min(fileData.byteLength - position, MAX_PAYLOAD_SIZE);\n",
              "      const chunk = new Uint8Array(fileData, position, length);\n",
              "      position += length;\n",
              "\n",
              "      const base64 = btoa(String.fromCharCode.apply(null, chunk));\n",
              "      yield {\n",
              "        response: {\n",
              "          action: 'append',\n",
              "          file: file.name,\n",
              "          data: base64,\n",
              "        },\n",
              "      };\n",
              "\n",
              "      let percentDone = fileData.byteLength === 0 ?\n",
              "          100 :\n",
              "          Math.round((position / fileData.byteLength) * 100);\n",
              "      percent.textContent = `${percentDone}% done`;\n",
              "\n",
              "    } while (position < fileData.byteLength);\n",
              "  }\n",
              "\n",
              "  // All done.\n",
              "  yield {\n",
              "    response: {\n",
              "      action: 'complete',\n",
              "    }\n",
              "  };\n",
              "}\n",
              "\n",
              "scope.google = scope.google || {};\n",
              "scope.google.colab = scope.google.colab || {};\n",
              "scope.google.colab._files = {\n",
              "  _uploadFiles,\n",
              "  _uploadFilesContinue,\n",
              "};\n",
              "})(self);\n",
              "</script> "
            ]
          },
          "metadata": {}
        },
        {
          "output_type": "stream",
          "name": "stdout",
          "text": [
            "Saving allDogDescriptions.csv to allDogDescriptions (1).csv\n",
            "Saving dogTravel.csv to dogTravel (1).csv\n",
            "Saving movesByLocation.csv to movesByLocation (1).csv\n",
            "Saving state_symbol.csv to state_symbol (1).csv\n",
            "Saving StatePopulation2019.csv to StatePopulation2019 (1).csv\n"
          ]
        }
      ]
    },
    {
      "cell_type": "code",
      "execution_count": 41,
      "metadata": {
        "id": "EcALhAmt1Fjy"
      },
      "outputs": [],
      "source": [
        "import pandas as pd\n",
        "import numpy as np\n",
        "import seaborn as sns\n",
        "import matplotlib.pyplot as plt\n",
        "%matplotlib inline"
      ]
    },
    {
      "cell_type": "code",
      "execution_count": 42,
      "metadata": {
        "id": "WTZUMjNu1Fjz"
      },
      "outputs": [],
      "source": [
        "alldogs = pd.read_csv('allDogDescriptions.csv')\n",
        "travel = pd.read_csv('dogTravel.csv')\n",
        "info_loc = pd.read_csv('movesByLocation.csv')"
      ]
    },
    {
      "cell_type": "markdown",
      "source": [
        "### Data exploration"
      ],
      "metadata": {
        "id": "zd2ws0BjBlCu"
      }
    },
    {
      "cell_type": "code",
      "execution_count": 43,
      "metadata": {
        "colab": {
          "base_uri": "https://localhost:8080/",
          "height": 206
        },
        "id": "zJrRZ7TR1Fjz",
        "outputId": "aab80dcc-b224-43f9-ccf8-73140cf5cc89"
      },
      "outputs": [
        {
          "output_type": "execute_result",
          "data": {
            "text/plain": [
              "   index        location  exported  imported   total  inUS\n",
              "0      0           Texas     635.0       NaN   566.0  True\n",
              "1      1         Alabama     268.0       2.0  1428.0  True\n",
              "2      2  North Carolina     158.0      14.0  2627.0  True\n",
              "3      3  South Carolina     139.0      12.0  1618.0  True\n",
              "4      4         Georgia     137.0      19.0  3479.0  True"
            ],
            "text/html": [
              "\n",
              "  <div id=\"df-fb03c5ca-8cf8-4684-b476-e2a11281fc83\">\n",
              "    <div class=\"colab-df-container\">\n",
              "      <div>\n",
              "<style scoped>\n",
              "    .dataframe tbody tr th:only-of-type {\n",
              "        vertical-align: middle;\n",
              "    }\n",
              "\n",
              "    .dataframe tbody tr th {\n",
              "        vertical-align: top;\n",
              "    }\n",
              "\n",
              "    .dataframe thead th {\n",
              "        text-align: right;\n",
              "    }\n",
              "</style>\n",
              "<table border=\"1\" class=\"dataframe\">\n",
              "  <thead>\n",
              "    <tr style=\"text-align: right;\">\n",
              "      <th></th>\n",
              "      <th>index</th>\n",
              "      <th>location</th>\n",
              "      <th>exported</th>\n",
              "      <th>imported</th>\n",
              "      <th>total</th>\n",
              "      <th>inUS</th>\n",
              "    </tr>\n",
              "  </thead>\n",
              "  <tbody>\n",
              "    <tr>\n",
              "      <th>0</th>\n",
              "      <td>0</td>\n",
              "      <td>Texas</td>\n",
              "      <td>635.0</td>\n",
              "      <td>NaN</td>\n",
              "      <td>566.0</td>\n",
              "      <td>True</td>\n",
              "    </tr>\n",
              "    <tr>\n",
              "      <th>1</th>\n",
              "      <td>1</td>\n",
              "      <td>Alabama</td>\n",
              "      <td>268.0</td>\n",
              "      <td>2.0</td>\n",
              "      <td>1428.0</td>\n",
              "      <td>True</td>\n",
              "    </tr>\n",
              "    <tr>\n",
              "      <th>2</th>\n",
              "      <td>2</td>\n",
              "      <td>North Carolina</td>\n",
              "      <td>158.0</td>\n",
              "      <td>14.0</td>\n",
              "      <td>2627.0</td>\n",
              "      <td>True</td>\n",
              "    </tr>\n",
              "    <tr>\n",
              "      <th>3</th>\n",
              "      <td>3</td>\n",
              "      <td>South Carolina</td>\n",
              "      <td>139.0</td>\n",
              "      <td>12.0</td>\n",
              "      <td>1618.0</td>\n",
              "      <td>True</td>\n",
              "    </tr>\n",
              "    <tr>\n",
              "      <th>4</th>\n",
              "      <td>4</td>\n",
              "      <td>Georgia</td>\n",
              "      <td>137.0</td>\n",
              "      <td>19.0</td>\n",
              "      <td>3479.0</td>\n",
              "      <td>True</td>\n",
              "    </tr>\n",
              "  </tbody>\n",
              "</table>\n",
              "</div>\n",
              "      <button class=\"colab-df-convert\" onclick=\"convertToInteractive('df-fb03c5ca-8cf8-4684-b476-e2a11281fc83')\"\n",
              "              title=\"Convert this dataframe to an interactive table.\"\n",
              "              style=\"display:none;\">\n",
              "        \n",
              "  <svg xmlns=\"http://www.w3.org/2000/svg\" height=\"24px\"viewBox=\"0 0 24 24\"\n",
              "       width=\"24px\">\n",
              "    <path d=\"M0 0h24v24H0V0z\" fill=\"none\"/>\n",
              "    <path d=\"M18.56 5.44l.94 2.06.94-2.06 2.06-.94-2.06-.94-.94-2.06-.94 2.06-2.06.94zm-11 1L8.5 8.5l.94-2.06 2.06-.94-2.06-.94L8.5 2.5l-.94 2.06-2.06.94zm10 10l.94 2.06.94-2.06 2.06-.94-2.06-.94-.94-2.06-.94 2.06-2.06.94z\"/><path d=\"M17.41 7.96l-1.37-1.37c-.4-.4-.92-.59-1.43-.59-.52 0-1.04.2-1.43.59L10.3 9.45l-7.72 7.72c-.78.78-.78 2.05 0 2.83L4 21.41c.39.39.9.59 1.41.59.51 0 1.02-.2 1.41-.59l7.78-7.78 2.81-2.81c.8-.78.8-2.07 0-2.86zM5.41 20L4 18.59l7.72-7.72 1.47 1.35L5.41 20z\"/>\n",
              "  </svg>\n",
              "      </button>\n",
              "      \n",
              "  <style>\n",
              "    .colab-df-container {\n",
              "      display:flex;\n",
              "      flex-wrap:wrap;\n",
              "      gap: 12px;\n",
              "    }\n",
              "\n",
              "    .colab-df-convert {\n",
              "      background-color: #E8F0FE;\n",
              "      border: none;\n",
              "      border-radius: 50%;\n",
              "      cursor: pointer;\n",
              "      display: none;\n",
              "      fill: #1967D2;\n",
              "      height: 32px;\n",
              "      padding: 0 0 0 0;\n",
              "      width: 32px;\n",
              "    }\n",
              "\n",
              "    .colab-df-convert:hover {\n",
              "      background-color: #E2EBFA;\n",
              "      box-shadow: 0px 1px 2px rgba(60, 64, 67, 0.3), 0px 1px 3px 1px rgba(60, 64, 67, 0.15);\n",
              "      fill: #174EA6;\n",
              "    }\n",
              "\n",
              "    [theme=dark] .colab-df-convert {\n",
              "      background-color: #3B4455;\n",
              "      fill: #D2E3FC;\n",
              "    }\n",
              "\n",
              "    [theme=dark] .colab-df-convert:hover {\n",
              "      background-color: #434B5C;\n",
              "      box-shadow: 0px 1px 3px 1px rgba(0, 0, 0, 0.15);\n",
              "      filter: drop-shadow(0px 1px 2px rgba(0, 0, 0, 0.3));\n",
              "      fill: #FFFFFF;\n",
              "    }\n",
              "  </style>\n",
              "\n",
              "      <script>\n",
              "        const buttonEl =\n",
              "          document.querySelector('#df-fb03c5ca-8cf8-4684-b476-e2a11281fc83 button.colab-df-convert');\n",
              "        buttonEl.style.display =\n",
              "          google.colab.kernel.accessAllowed ? 'block' : 'none';\n",
              "\n",
              "        async function convertToInteractive(key) {\n",
              "          const element = document.querySelector('#df-fb03c5ca-8cf8-4684-b476-e2a11281fc83');\n",
              "          const dataTable =\n",
              "            await google.colab.kernel.invokeFunction('convertToInteractive',\n",
              "                                                     [key], {});\n",
              "          if (!dataTable) return;\n",
              "\n",
              "          const docLinkHtml = 'Like what you see? Visit the ' +\n",
              "            '<a target=\"_blank\" href=https://colab.research.google.com/notebooks/data_table.ipynb>data table notebook</a>'\n",
              "            + ' to learn more about interactive tables.';\n",
              "          element.innerHTML = '';\n",
              "          dataTable['output_type'] = 'display_data';\n",
              "          await google.colab.output.renderOutput(dataTable, element);\n",
              "          const docLink = document.createElement('div');\n",
              "          docLink.innerHTML = docLinkHtml;\n",
              "          element.appendChild(docLink);\n",
              "        }\n",
              "      </script>\n",
              "    </div>\n",
              "  </div>\n",
              "  "
            ]
          },
          "metadata": {},
          "execution_count": 43
        }
      ],
      "source": [
        "info_loc.head()"
      ]
    },
    {
      "cell_type": "code",
      "execution_count": 44,
      "metadata": {
        "colab": {
          "base_uri": "https://localhost:8080/"
        },
        "id": "RF4THi4a1Fj0",
        "outputId": "1ec3436a-3803-45dc-e202-2937235a9c8c"
      },
      "outputs": [
        {
          "output_type": "stream",
          "name": "stdout",
          "text": [
            "Total number of missing data in each feature:\n",
            " index        0\n",
            "location     0\n",
            "exported     9\n",
            "imported    52\n",
            "total       39\n",
            "inUS         0\n",
            "dtype: int64\n",
            "Percent of the toal missing data over the total number of records:\n",
            " index        0.00\n",
            "location     0.00\n",
            "exported    10.00\n",
            "imported    57.78\n",
            "total       43.33\n",
            "inUS         0.00\n",
            "dtype: float64\n"
          ]
        }
      ],
      "source": [
        "#Check for NaN in the data set vs total values\n",
        "print('Total number of missing data in each feature:\\n',info_loc.isna().sum())\n",
        "print('Percent of the toal missing data over the total number of records:\\n',\n",
        "      round(info_loc.isna().sum()/info_loc.shape[0]*100,2))"
      ]
    },
    {
      "cell_type": "markdown",
      "metadata": {
        "id": "WaUD6e8J1Fj1"
      },
      "source": [
        "Majority of the missing data is on the imported type and the total number of adoptions. This could be due to the missing data for a given feature for the imported dogs for adoption"
      ]
    },
    {
      "cell_type": "code",
      "execution_count": 45,
      "metadata": {
        "colab": {
          "base_uri": "https://localhost:8080/",
          "height": 405
        },
        "id": "qK0uJXkj1Fj1",
        "outputId": "459aa4b3-cc61-43e1-c718-198d8b58929a"
      },
      "outputs": [
        {
          "output_type": "execute_result",
          "data": {
            "text/plain": [
              "<matplotlib.axes._subplots.AxesSubplot at 0x7f71e9d29100>"
            ]
          },
          "metadata": {},
          "execution_count": 45
        },
        {
          "output_type": "display_data",
          "data": {
            "text/plain": [
              "<Figure size 1584x432 with 3 Axes>"
            ],
            "image/png": "[encoded data removed]"
          },
          "metadata": {
            "needs_background": "light"
          }
        }
      ],
      "source": [
        "#plot the distribution of imported, exported, and total in USA and not in USA groups:\n",
        "fig, axs = plt.subplots(1,3,figsize=(22,6))\n",
        "sns.ecdfplot(data = info_loc, y='exported', hue = 'inUS', ax=axs[0])\n",
        "sns.ecdfplot(data = info_loc, y='imported', hue = 'inUS', ax=axs[1])\n",
        "sns.ecdfplot(data = info_loc, y='total', hue = 'inUS', ax=axs[2])"
      ]
    },
    {
      "cell_type": "markdown",
      "metadata": {
        "id": "fmK6IE9r1Fj1"
      },
      "source": [
        "The imported and total number of dogs in USA is available, but there is no data for shelters outside of US. It seems like most of the missing data are in the shelters outside of US. Check this in the following code:"
      ]
    },
    {
      "cell_type": "code",
      "execution_count": 46,
      "metadata": {
        "colab": {
          "base_uri": "https://localhost:8080/"
        },
        "id": "bWL0N0Iy1Fj2",
        "outputId": "6b63c126-1614-44eb-e3be-ce39e59d8e9e"
      },
      "outputs": [
        {
          "output_type": "stream",
          "name": "stdout",
          "text": [
            "Number of NaN values for imported dog in US: 39\n",
            "Number of NaN values for all dogs in US: 39\n",
            "\n",
            " Total number of missing data in each feature in US:\n",
            " index        0\n",
            "location     0\n",
            "exported     9\n",
            "imported    13\n",
            "total        0\n",
            "inUS         0\n",
            "dtype: int64\n",
            "\n",
            "Size of the new dataset: (51, 6) \n",
            "\n"
          ]
        },
        {
          "output_type": "execute_result",
          "data": {
            "text/plain": [
              "Texas             1\n",
              "Maine             1\n",
              "Idaho             1\n",
              "Kansas            1\n",
              "Wisconsin         1\n",
              "Colorado          1\n",
              "Hawaii            1\n",
              "Iowa              1\n",
              "Massachusetts     1\n",
              "North Dakota      1\n",
              "South Dakota      1\n",
              "Washington        1\n",
              "Nevada            1\n",
              "Utah              1\n",
              "Oregon            1\n",
              "Wyoming           1\n",
              "Rhode Island      1\n",
              "Minnesota         1\n",
              "Vermont           1\n",
              "New Hampshire     1\n",
              "Delaware          1\n",
              "Michigan          1\n",
              "Washington DC     1\n",
              "Montana           1\n",
              "Connecticut       1\n",
              "Nebraska          1\n",
              "Alabama           1\n",
              "Arkansas          1\n",
              "North Carolina    1\n",
              "South Carolina    1\n",
              "Georgia           1\n",
              "California        1\n",
              "Tennessee         1\n",
              "Kentucky          1\n",
              "Mississippi       1\n",
              "Louisiana         1\n",
              "West Virginia     1\n",
              "Florida           1\n",
              "New Mexico        1\n",
              "Maryland          1\n",
              "Virginia          1\n",
              "New York          1\n",
              "Arizona           1\n",
              "Indiana           1\n",
              "Missouri          1\n",
              "Ohio              1\n",
              "Oklahoma          1\n",
              "Pennsylvania      1\n",
              "New Jersey        1\n",
              "Illinois          1\n",
              "Alaska            1\n",
              "Name: location, dtype: int64"
            ]
          },
          "metadata": {},
          "execution_count": 46
        }
      ],
      "source": [
        "#Check number of NaN case in imported and total:\n",
        "print('Number of NaN values for imported dog in US:',info_loc[info_loc['inUS'] ==False]['imported'].isna().sum())\n",
        "print('Number of NaN values for all dogs in US:',info_loc[info_loc['inUS'] ==False]['total'].isna().sum())\n",
        "\n",
        "#Filter the data for inUS:\n",
        "info_US = info_loc[info_loc['inUS'] ==True]\n",
        "print('\\n Total number of missing data in each feature in US:\\n',info_US.isna().sum())\n",
        "\n",
        "#Check all the location of info_US dataset\n",
        "print('\\nSize of the new dataset:', info_US.shape,'\\n')\n",
        "info_US['location'].value_counts()"
      ]
    },
    {
      "cell_type": "code",
      "execution_count": 47,
      "metadata": {
        "colab": {
          "base_uri": "https://localhost:8080/"
        },
        "id": "pnk__s8u1Fj2",
        "outputId": "fd8be9d7-855a-44af-cea1-46e0917ccb40"
      },
      "outputs": [
        {
          "output_type": "stream",
          "name": "stderr",
          "text": [
            "/usr/local/lib/python3.8/dist-packages/pandas/core/frame.py:5176: SettingWithCopyWarning: \n",
            "A value is trying to be set on a copy of a slice from a DataFrame\n",
            "\n",
            "See the caveats in the documentation: https://pandas.pydata.org/pandas-docs/stable/user_guide/indexing.html#returning-a-view-versus-a-copy\n",
            "  return super().fillna(\n"
          ]
        }
      ],
      "source": [
        "#Fill missing data with 0, assuming that there is no import cases or export cases \n",
        "info_US.fillna(0,inplace=True)"
      ]
    },
    {
      "cell_type": "code",
      "execution_count": 48,
      "metadata": {
        "colab": {
          "base_uri": "https://localhost:8080/",
          "height": 325
        },
        "id": "PGKH8r9C1Fj3",
        "outputId": "6a6684e0-0213-416c-f5cb-926ca42578c2"
      },
      "outputs": [
        {
          "output_type": "execute_result",
          "data": {
            "text/plain": [
              "Text(0.5, 0.98, 'The distribution dogs in shelter per states in USA')"
            ]
          },
          "metadata": {},
          "execution_count": 48
        },
        {
          "output_type": "display_data",
          "data": {
            "text/plain": [
              "<Figure size 1080x288 with 6 Axes>"
            ],
            "image/png": "[encoded data removed]"
          },
          "metadata": {
            "needs_background": "light"
          }
        }
      ],
      "source": [
        "#plot the distribution of imported, exported, and total dogs per states in USA:\n",
        "fig, axs = plt.subplots(2,3,figsize=(15,4))\n",
        "sns.histplot(data = info_US, x='exported', ax=axs[0,0],label='test')\n",
        "sns.histplot(data = info_US, x='imported', ax=axs[0,1])\n",
        "sns.histplot(data = info_US, x='total', ax=axs[0,2])\n",
        "\n",
        "sns.ecdfplot(data = info_US, x='exported', ax=axs[1,0])\n",
        "sns.ecdfplot(data = info_US, x='imported', ax=axs[1,1])\n",
        "sns.ecdfplot(data = info_US, x='total', ax=axs[1,2])\n",
        "\n",
        "fig.suptitle('The distribution dogs in shelter per states in USA') # or plt.suptitle('Main title')\n",
        "\n",
        "#print('Total number of missing data in each feature:\\n',info_US.isna().sum())\n"
      ]
    },
    {
      "cell_type": "code",
      "execution_count": 49,
      "metadata": {
        "colab": {
          "base_uri": "https://localhost:8080/"
        },
        "id": "7bOc42Ek1Fj3",
        "outputId": "c6dce645-4fff-4a94-f4cb-eeadb0d1b162"
      },
      "outputs": [
        {
          "output_type": "stream",
          "name": "stdout",
          "text": [
            "   index    location  exported  imported   total  inUS\n",
            "6      6  California     130.0       3.0  1664.0  True\n",
            "   index location  exported  imported  total  inUS\n",
            "0      0    Texas     635.0       0.0  566.0  True\n"
          ]
        }
      ],
      "source": [
        "print(info_US[info_US.location=='California'])\n",
        "print(info_US[info_US.location=='Texas'])"
      ]
    },
    {
      "cell_type": "code",
      "source": [
        "plt.figure(figsize=(20,22))\n",
        "sns.barplot(data=info_US.sort_values(by='total', axis=0,ascending=False),\n",
        "            x=\"total\", y=\"location\")"
      ],
      "metadata": {
        "colab": {
          "base_uri": "https://localhost:8080/",
          "height": 1000
        },
        "id": "2juiWVWZ4mwA",
        "outputId": "8ef0fb8c-5cd6-48d0-ace9-d45294e5b4bc"
      },
      "execution_count": 64,
      "outputs": [
        {
          "output_type": "execute_result",
          "data": {
            "text/plain": [
              "<matplotlib.axes._subplots.AxesSubplot at 0x7f71e4cb64c0>"
            ]
          },
          "metadata": {},
          "execution_count": 64
        },
        {
          "output_type": "display_data",
          "data": {
            "text/plain": [
              "<Figure size 1440x1584 with 1 Axes>"
            ],
            "image/png": "[encoded data removed]"
          },
          "metadata": {
            "needs_background": "light"
          }
        }
      ]
    },
    {
      "cell_type": "code",
      "execution_count": 50,
      "metadata": {
        "colab": {
          "base_uri": "https://localhost:8080/",
          "height": 237
        },
        "id": "LxyyXwlw1Fj5",
        "outputId": "ba3a763c-70fa-4b0b-d361-c0718f8d5bbf"
      },
      "outputs": [
        {
          "output_type": "execute_result",
          "data": {
            "text/plain": [
              "    index      location  exported  imported   total  inUS  Percent\n",
              "22     22      New York      17.0     390.0  4002.0  True     6.88\n",
              "4       4       Georgia     137.0      19.0  3479.0  True     5.98\n",
              "19     19      Virginia      20.0     183.0  3058.0  True     5.26\n",
              "55     55  South Dakota       2.0       0.0    24.0  True     0.04\n",
              "88     88       Montana       0.0       0.0    18.0  True     0.03\n",
              "89     89        Alaska       0.0       0.0    15.0  True     0.03"
            ],
            "text/html": [
              "\n",
              "  <div id=\"df-487a3e46-ce45-4504-b3e3-82fa6a7f557e\">\n",
              "    <div class=\"colab-df-container\">\n",
              "      <div>\n",
              "<style scoped>\n",
              "    .dataframe tbody tr th:only-of-type {\n",
              "        vertical-align: middle;\n",
              "    }\n",
              "\n",
              "    .dataframe tbody tr th {\n",
              "        vertical-align: top;\n",
              "    }\n",
              "\n",
              "    .dataframe thead th {\n",
              "        text-align: right;\n",
              "    }\n",
              "</style>\n",
              "<table border=\"1\" class=\"dataframe\">\n",
              "  <thead>\n",
              "    <tr style=\"text-align: right;\">\n",
              "      <th></th>\n",
              "      <th>index</th>\n",
              "      <th>location</th>\n",
              "      <th>exported</th>\n",
              "      <th>imported</th>\n",
              "      <th>total</th>\n",
              "      <th>inUS</th>\n",
              "      <th>Percent</th>\n",
              "    </tr>\n",
              "  </thead>\n",
              "  <tbody>\n",
              "    <tr>\n",
              "      <th>22</th>\n",
              "      <td>22</td>\n",
              "      <td>New York</td>\n",
              "      <td>17.0</td>\n",
              "      <td>390.0</td>\n",
              "      <td>4002.0</td>\n",
              "      <td>True</td>\n",
              "      <td>6.88</td>\n",
              "    </tr>\n",
              "    <tr>\n",
              "      <th>4</th>\n",
              "      <td>4</td>\n",
              "      <td>Georgia</td>\n",
              "      <td>137.0</td>\n",
              "      <td>19.0</td>\n",
              "      <td>3479.0</td>\n",
              "      <td>True</td>\n",
              "      <td>5.98</td>\n",
              "    </tr>\n",
              "    <tr>\n",
              "      <th>19</th>\n",
              "      <td>19</td>\n",
              "      <td>Virginia</td>\n",
              "      <td>20.0</td>\n",
              "      <td>183.0</td>\n",
              "      <td>3058.0</td>\n",
              "      <td>True</td>\n",
              "      <td>5.26</td>\n",
              "    </tr>\n",
              "    <tr>\n",
              "      <th>55</th>\n",
              "      <td>55</td>\n",
              "      <td>South Dakota</td>\n",
              "      <td>2.0</td>\n",
              "      <td>0.0</td>\n",
              "      <td>24.0</td>\n",
              "      <td>True</td>\n",
              "      <td>0.04</td>\n",
              "    </tr>\n",
              "    <tr>\n",
              "      <th>88</th>\n",
              "      <td>88</td>\n",
              "      <td>Montana</td>\n",
              "      <td>0.0</td>\n",
              "      <td>0.0</td>\n",
              "      <td>18.0</td>\n",
              "      <td>True</td>\n",
              "      <td>0.03</td>\n",
              "    </tr>\n",
              "    <tr>\n",
              "      <th>89</th>\n",
              "      <td>89</td>\n",
              "      <td>Alaska</td>\n",
              "      <td>0.0</td>\n",
              "      <td>0.0</td>\n",
              "      <td>15.0</td>\n",
              "      <td>True</td>\n",
              "      <td>0.03</td>\n",
              "    </tr>\n",
              "  </tbody>\n",
              "</table>\n",
              "</div>\n",
              "      <button class=\"colab-df-convert\" onclick=\"convertToInteractive('df-487a3e46-ce45-4504-b3e3-82fa6a7f557e')\"\n",
              "              title=\"Convert this dataframe to an interactive table.\"\n",
              "              style=\"display:none;\">\n",
              "        \n",
              "  <svg xmlns=\"http://www.w3.org/2000/svg\" height=\"24px\"viewBox=\"0 0 24 24\"\n",
              "       width=\"24px\">\n",
              "    <path d=\"M0 0h24v24H0V0z\" fill=\"none\"/>\n",
              "    <path d=\"M18.56 5.44l.94 2.06.94-2.06 2.06-.94-2.06-.94-.94-2.06-.94 2.06-2.06.94zm-11 1L8.5 8.5l.94-2.06 2.06-.94-2.06-.94L8.5 2.5l-.94 2.06-2.06.94zm10 10l.94 2.06.94-2.06 2.06-.94-2.06-.94-.94-2.06-.94 2.06-2.06.94z\"/><path d=\"M17.41 7.96l-1.37-1.37c-.4-.4-.92-.59-1.43-.59-.52 0-1.04.2-1.43.59L10.3 9.45l-7.72 7.72c-.78.78-.78 2.05 0 2.83L4 21.41c.39.39.9.59 1.41.59.51 0 1.02-.2 1.41-.59l7.78-7.78 2.81-2.81c.8-.78.8-2.07 0-2.86zM5.41 20L4 18.59l7.72-7.72 1.47 1.35L5.41 20z\"/>\n",
              "  </svg>\n",
              "      </button>\n",
              "      \n",
              "  <style>\n",
              "    .colab-df-container {\n",
              "      display:flex;\n",
              "      flex-wrap:wrap;\n",
              "      gap: 12px;\n",
              "    }\n",
              "\n",
              "    .colab-df-convert {\n",
              "      background-color: #E8F0FE;\n",
              "      border: none;\n",
              "      border-radius: 50%;\n",
              "      cursor: pointer;\n",
              "      display: none;\n",
              "      fill: #1967D2;\n",
              "      height: 32px;\n",
              "      padding: 0 0 0 0;\n",
              "      width: 32px;\n",
              "    }\n",
              "\n",
              "    .colab-df-convert:hover {\n",
              "      background-color: #E2EBFA;\n",
              "      box-shadow: 0px 1px 2px rgba(60, 64, 67, 0.3), 0px 1px 3px 1px rgba(60, 64, 67, 0.15);\n",
              "      fill: #174EA6;\n",
              "    }\n",
              "\n",
              "    [theme=dark] .colab-df-convert {\n",
              "      background-color: #3B4455;\n",
              "      fill: #D2E3FC;\n",
              "    }\n",
              "\n",
              "    [theme=dark] .colab-df-convert:hover {\n",
              "      background-color: #434B5C;\n",
              "      box-shadow: 0px 1px 3px 1px rgba(0, 0, 0, 0.15);\n",
              "      filter: drop-shadow(0px 1px 2px rgba(0, 0, 0, 0.3));\n",
              "      fill: #FFFFFF;\n",
              "    }\n",
              "  </style>\n",
              "\n",
              "      <script>\n",
              "        const buttonEl =\n",
              "          document.querySelector('#df-487a3e46-ce45-4504-b3e3-82fa6a7f557e button.colab-df-convert');\n",
              "        buttonEl.style.display =\n",
              "          google.colab.kernel.accessAllowed ? 'block' : 'none';\n",
              "\n",
              "        async function convertToInteractive(key) {\n",
              "          const element = document.querySelector('#df-487a3e46-ce45-4504-b3e3-82fa6a7f557e');\n",
              "          const dataTable =\n",
              "            await google.colab.kernel.invokeFunction('convertToInteractive',\n",
              "                                                     [key], {});\n",
              "          if (!dataTable) return;\n",
              "\n",
              "          const docLinkHtml = 'Like what you see? Visit the ' +\n",
              "            '<a target=\"_blank\" href=https://colab.research.google.com/notebooks/data_table.ipynb>data table notebook</a>'\n",
              "            + ' to learn more about interactive tables.';\n",
              "          element.innerHTML = '';\n",
              "          dataTable['output_type'] = 'display_data';\n",
              "          await google.colab.output.renderOutput(dataTable, element);\n",
              "          const docLink = document.createElement('div');\n",
              "          docLink.innerHTML = docLinkHtml;\n",
              "          element.appendChild(docLink);\n",
              "        }\n",
              "      </script>\n",
              "    </div>\n",
              "  </div>\n",
              "  "
            ]
          },
          "metadata": {},
          "execution_count": 50
        }
      ],
      "source": [
        "#Find states with largest and smallest number of total of dog\n",
        "top_bottom_states = info_US.sort_values('total').iloc[[-1,-2,-3,2,1,0],:]\n",
        "top_bottom_states['Percent']= round(top_bottom_states.iloc[:,4]/info_US['total'].sum()*100,2)\n",
        "top_bottom_states"
      ]
    },
    {
      "cell_type": "markdown",
      "metadata": {
        "id": "ggbTCiTE1Fj3"
      },
      "source": [
        "- Around 80% of all states in US will have the  2000 dogs with 100 imported dogs and 50 exported dogs per state.\n",
        "\n",
        "- Shelters from a few states will have more dogs and contribute the total of 20% number of dogs in US. Those states are:\n",
        "New York, Georgia, Virginia\n",
        "- Although California and Texas are the biggest population, the amount of dogs in the shelters are very low. "
      ]
    },
    {
      "cell_type": "markdown",
      "source": [
        "\n",
        "## Number of dogs in shelter vs the population in each state \n",
        "\n"
      ],
      "metadata": {
        "id": "enBSOevfBc1i"
      }
    },
    {
      "cell_type": "markdown",
      "source": [
        "Data source for population:  https://www.census.gov/newsroom/press-kits/2019/national-state-estimates.html"
      ],
      "metadata": {
        "id": "rwAv7WlqCWrq"
      }
    },
    {
      "cell_type": "code",
      "execution_count": 65,
      "metadata": {
        "colab": {
          "base_uri": "https://localhost:8080/",
          "height": 386
        },
        "id": "uGxd7LIu1Fj4",
        "outputId": "70ffb4c8-2118-41a1-bbc0-db31837500a5"
      },
      "outputs": [
        {
          "output_type": "execute_result",
          "data": {
            "text/plain": [
              "   SUMLEV REGION DIVISION  STATE              NAME  CENSUS2010POP  \\\n",
              "0      10      0        0      0     United States      308745538   \n",
              "1      20      1        0      0  Northeast Region       55317240   \n",
              "2      20      2        0      0    Midwest Region       66927001   \n",
              "3      20      3        0      0      South Region      114555744   \n",
              "4      20      4        0      0       West Region       71945553   \n",
              "\n",
              "   ESTIMATESBASE2010  POPESTIMATE2010  POPESTIMATE2011  POPESTIMATE2012  ...  \\\n",
              "0          308758105        309321666        311556874        313830990  ...   \n",
              "1           55318443         55380134         55604223         55775216  ...   \n",
              "2           66929725         66974416         67157800         67336743  ...   \n",
              "3          114563030        114866680        116006522        117241208  ...   \n",
              "4           71946907         72100436         72788329         73477823  ...   \n",
              "\n",
              "   RDOMESTICMIG2019  RNETMIG2011  RNETMIG2012  RNETMIG2013  RNETMIG2014  \\\n",
              "0          0.000000     2.493773     2.682083     2.636187     2.921500   \n",
              "1         -5.254530     0.887909    -0.038355    -0.469783    -0.986097   \n",
              "2         -2.365881    -0.963930    -0.973943    -0.006924    -0.762969   \n",
              "3          3.261349     5.130513     5.850458     5.292073     6.161501   \n",
              "4          0.614245     2.723344     3.062896     3.162262     4.026429   \n",
              "\n",
              "   RNETMIG2015  RNETMIG2016  RNETMIG2017  RNETMIG2018  RNETMIG2019  \n",
              "0     3.260435     3.252788     2.871957     2.153911     1.818059  \n",
              "1    -2.061965    -2.490484    -1.837048    -2.134447    -2.859713  \n",
              "2    -1.388437    -1.241784    -0.557370    -0.922755    -1.111173  \n",
              "3     7.277358     7.150074     6.198168     5.225519     5.203720  \n",
              "4     4.987285     5.261078     4.021194     3.044951     2.312083  \n",
              "\n",
              "[5 rows x 151 columns]"
            ],
            "text/html": [
              "\n",
              "  <div id=\"df-1d0333d6-832c-43cb-a36c-5aefcd7d03e2\">\n",
              "    <div class=\"colab-df-container\">\n",
              "      <div>\n",
              "<style scoped>\n",
              "    .dataframe tbody tr th:only-of-type {\n",
              "        vertical-align: middle;\n",
              "    }\n",
              "\n",
              "    .dataframe tbody tr th {\n",
              "        vertical-align: top;\n",
              "    }\n",
              "\n",
              "    .dataframe thead th {\n",
              "        text-align: right;\n",
              "    }\n",
              "</style>\n",
              "<table border=\"1\" class=\"dataframe\">\n",
              "  <thead>\n",
              "    <tr style=\"text-align: right;\">\n",
              "      <th></th>\n",
              "      <th>SUMLEV</th>\n",
              "      <th>REGION</th>\n",
              "      <th>DIVISION</th>\n",
              "      <th>STATE</th>\n",
              "      <th>NAME</th>\n",
              "      <th>CENSUS2010POP</th>\n",
              "      <th>ESTIMATESBASE2010</th>\n",
              "      <th>POPESTIMATE2010</th>\n",
              "      <th>POPESTIMATE2011</th>\n",
              "      <th>POPESTIMATE2012</th>\n",
              "      <th>...</th>\n",
              "      <th>RDOMESTICMIG2019</th>\n",
              "      <th>RNETMIG2011</th>\n",
              "      <th>RNETMIG2012</th>\n",
              "      <th>RNETMIG2013</th>\n",
              "      <th>RNETMIG2014</th>\n",
              "      <th>RNETMIG2015</th>\n",
              "      <th>RNETMIG2016</th>\n",
              "      <th>RNETMIG2017</th>\n",
              "      <th>RNETMIG2018</th>\n",
              "      <th>RNETMIG2019</th>\n",
              "    </tr>\n",
              "  </thead>\n",
              "  <tbody>\n",
              "    <tr>\n",
              "      <th>0</th>\n",
              "      <td>10</td>\n",
              "      <td>0</td>\n",
              "      <td>0</td>\n",
              "      <td>0</td>\n",
              "      <td>United States</td>\n",
              "      <td>308745538</td>\n",
              "      <td>308758105</td>\n",
              "      <td>309321666</td>\n",
              "      <td>311556874</td>\n",
              "      <td>313830990</td>\n",
              "      <td>...</td>\n",
              "      <td>0.000000</td>\n",
              "      <td>2.493773</td>\n",
              "      <td>2.682083</td>\n",
              "      <td>2.636187</td>\n",
              "      <td>2.921500</td>\n",
              "      <td>3.260435</td>\n",
              "      <td>3.252788</td>\n",
              "      <td>2.871957</td>\n",
              "      <td>2.153911</td>\n",
              "      <td>1.818059</td>\n",
              "    </tr>\n",
              "    <tr>\n",
              "      <th>1</th>\n",
              "      <td>20</td>\n",
              "      <td>1</td>\n",
              "      <td>0</td>\n",
              "      <td>0</td>\n",
              "      <td>Northeast Region</td>\n",
              "      <td>55317240</td>\n",
              "      <td>55318443</td>\n",
              "      <td>55380134</td>\n",
              "      <td>55604223</td>\n",
              "      <td>55775216</td>\n",
              "      <td>...</td>\n",
              "      <td>-5.254530</td>\n",
              "      <td>0.887909</td>\n",
              "      <td>-0.038355</td>\n",
              "      <td>-0.469783</td>\n",
              "      <td>-0.986097</td>\n",
              "      <td>-2.061965</td>\n",
              "      <td>-2.490484</td>\n",
              "      <td>-1.837048</td>\n",
              "      <td>-2.134447</td>\n",
              "      <td>-2.859713</td>\n",
              "    </tr>\n",
              "    <tr>\n",
              "      <th>2</th>\n",
              "      <td>20</td>\n",
              "      <td>2</td>\n",
              "      <td>0</td>\n",
              "      <td>0</td>\n",
              "      <td>Midwest Region</td>\n",
              "      <td>66927001</td>\n",
              "      <td>66929725</td>\n",
              "      <td>66974416</td>\n",
              "      <td>67157800</td>\n",
              "      <td>67336743</td>\n",
              "      <td>...</td>\n",
              "      <td>-2.365881</td>\n",
              "      <td>-0.963930</td>\n",
              "      <td>-0.973943</td>\n",
              "      <td>-0.006924</td>\n",
              "      <td>-0.762969</td>\n",
              "      <td>-1.388437</td>\n",
              "      <td>-1.241784</td>\n",
              "      <td>-0.557370</td>\n",
              "      <td>-0.922755</td>\n",
              "      <td>-1.111173</td>\n",
              "    </tr>\n",
              "    <tr>\n",
              "      <th>3</th>\n",
              "      <td>20</td>\n",
              "      <td>3</td>\n",
              "      <td>0</td>\n",
              "      <td>0</td>\n",
              "      <td>South Region</td>\n",
              "      <td>114555744</td>\n",
              "      <td>114563030</td>\n",
              "      <td>114866680</td>\n",
              "      <td>116006522</td>\n",
              "      <td>117241208</td>\n",
              "      <td>...</td>\n",
              "      <td>3.261349</td>\n",
              "      <td>5.130513</td>\n",
              "      <td>5.850458</td>\n",
              "      <td>5.292073</td>\n",
              "      <td>6.161501</td>\n",
              "      <td>7.277358</td>\n",
              "      <td>7.150074</td>\n",
              "      <td>6.198168</td>\n",
              "      <td>5.225519</td>\n",
              "      <td>5.203720</td>\n",
              "    </tr>\n",
              "    <tr>\n",
              "      <th>4</th>\n",
              "      <td>20</td>\n",
              "      <td>4</td>\n",
              "      <td>0</td>\n",
              "      <td>0</td>\n",
              "      <td>West Region</td>\n",
              "      <td>71945553</td>\n",
              "      <td>71946907</td>\n",
              "      <td>72100436</td>\n",
              "      <td>72788329</td>\n",
              "      <td>73477823</td>\n",
              "      <td>...</td>\n",
              "      <td>0.614245</td>\n",
              "      <td>2.723344</td>\n",
              "      <td>3.062896</td>\n",
              "      <td>3.162262</td>\n",
              "      <td>4.026429</td>\n",
              "      <td>4.987285</td>\n",
              "      <td>5.261078</td>\n",
              "      <td>4.021194</td>\n",
              "      <td>3.044951</td>\n",
              "      <td>2.312083</td>\n",
              "    </tr>\n",
              "  </tbody>\n",
              "</table>\n",
              "<p>5 rows × 151 columns</p>\n",
              "</div>\n",
              "      <button class=\"colab-df-convert\" onclick=\"convertToInteractive('df-1d0333d6-832c-43cb-a36c-5aefcd7d03e2')\"\n",
              "              title=\"Convert this dataframe to an interactive table.\"\n",
              "              style=\"display:none;\">\n",
              "        \n",
              "  <svg xmlns=\"http://www.w3.org/2000/svg\" height=\"24px\"viewBox=\"0 0 24 24\"\n",
              "       width=\"24px\">\n",
              "    <path d=\"M0 0h24v24H0V0z\" fill=\"none\"/>\n",
              "    <path d=\"M18.56 5.44l.94 2.06.94-2.06 2.06-.94-2.06-.94-.94-2.06-.94 2.06-2.06.94zm-11 1L8.5 8.5l.94-2.06 2.06-.94-2.06-.94L8.5 2.5l-.94 2.06-2.06.94zm10 10l.94 2.06.94-2.06 2.06-.94-2.06-.94-.94-2.06-.94 2.06-2.06.94z\"/><path d=\"M17.41 7.96l-1.37-1.37c-.4-.4-.92-.59-1.43-.59-.52 0-1.04.2-1.43.59L10.3 9.45l-7.72 7.72c-.78.78-.78 2.05 0 2.83L4 21.41c.39.39.9.59 1.41.59.51 0 1.02-.2 1.41-.59l7.78-7.78 2.81-2.81c.8-.78.8-2.07 0-2.86zM5.41 20L4 18.59l7.72-7.72 1.47 1.35L5.41 20z\"/>\n",
              "  </svg>\n",
              "      </button>\n",
              "      \n",
              "  <style>\n",
              "    .colab-df-container {\n",
              "      display:flex;\n",
              "      flex-wrap:wrap;\n",
              "      gap: 12px;\n",
              "    }\n",
              "\n",
              "    .colab-df-convert {\n",
              "      background-color: #E8F0FE;\n",
              "      border: none;\n",
              "      border-radius: 50%;\n",
              "      cursor: pointer;\n",
              "      display: none;\n",
              "      fill: #1967D2;\n",
              "      height: 32px;\n",
              "      padding: 0 0 0 0;\n",
              "      width: 32px;\n",
              "    }\n",
              "\n",
              "    .colab-df-convert:hover {\n",
              "      background-color: #E2EBFA;\n",
              "      box-shadow: 0px 1px 2px rgba(60, 64, 67, 0.3), 0px 1px 3px 1px rgba(60, 64, 67, 0.15);\n",
              "      fill: #174EA6;\n",
              "    }\n",
              "\n",
              "    [theme=dark] .colab-df-convert {\n",
              "      background-color: #3B4455;\n",
              "      fill: #D2E3FC;\n",
              "    }\n",
              "\n",
              "    [theme=dark] .colab-df-convert:hover {\n",
              "      background-color: #434B5C;\n",
              "      box-shadow: 0px 1px 3px 1px rgba(0, 0, 0, 0.15);\n",
              "      filter: drop-shadow(0px 1px 2px rgba(0, 0, 0, 0.3));\n",
              "      fill: #FFFFFF;\n",
              "    }\n",
              "  </style>\n",
              "\n",
              "      <script>\n",
              "        const buttonEl =\n",
              "          document.querySelector('#df-1d0333d6-832c-43cb-a36c-5aefcd7d03e2 button.colab-df-convert');\n",
              "        buttonEl.style.display =\n",
              "          google.colab.kernel.accessAllowed ? 'block' : 'none';\n",
              "\n",
              "        async function convertToInteractive(key) {\n",
              "          const element = document.querySelector('#df-1d0333d6-832c-43cb-a36c-5aefcd7d03e2');\n",
              "          const dataTable =\n",
              "            await google.colab.kernel.invokeFunction('convertToInteractive',\n",
              "                                                     [key], {});\n",
              "          if (!dataTable) return;\n",
              "\n",
              "          const docLinkHtml = 'Like what you see? Visit the ' +\n",
              "            '<a target=\"_blank\" href=https://colab.research.google.com/notebooks/data_table.ipynb>data table notebook</a>'\n",
              "            + ' to learn more about interactive tables.';\n",
              "          element.innerHTML = '';\n",
              "          dataTable['output_type'] = 'display_data';\n",
              "          await google.colab.output.renderOutput(dataTable, element);\n",
              "          const docLink = document.createElement('div');\n",
              "          docLink.innerHTML = docLinkHtml;\n",
              "          element.appendChild(docLink);\n",
              "        }\n",
              "      </script>\n",
              "    </div>\n",
              "  </div>\n",
              "  "
            ]
          },
          "metadata": {},
          "execution_count": 65
        }
      ],
      "source": [
        "#import the data for state population \n",
        "state_population = pd.read_csv('StatePopulation2019.csv')\n",
        "state_population.head()"
      ]
    },
    {
      "cell_type": "code",
      "source": [
        "state_symbol = pd.read_csv('state_symbol.csv')"
      ],
      "metadata": {
        "id": "tpDGEwNTC8D8"
      },
      "execution_count": 66,
      "outputs": []
    },
    {
      "cell_type": "code",
      "execution_count": 67,
      "metadata": {
        "colab": {
          "base_uri": "https://localhost:8080/"
        },
        "id": "HuTN4lNu1Fj4",
        "outputId": "e13a3797-cab1-4f70-8091-3752b997039b"
      },
      "outputs": [
        {
          "output_type": "stream",
          "name": "stdout",
          "text": [
            "Index(['SUMLEV', 'REGION', 'DIVISION', 'STATE', 'NAME', 'CENSUS2010POP',\n",
            "       'ESTIMATESBASE2010', 'POPESTIMATE2010', 'POPESTIMATE2011',\n",
            "       'POPESTIMATE2012',\n",
            "       ...\n",
            "       'RDOMESTICMIG2019', 'RNETMIG2011', 'RNETMIG2012', 'RNETMIG2013',\n",
            "       'RNETMIG2014', 'RNETMIG2015', 'RNETMIG2016', 'RNETMIG2017',\n",
            "       'RNETMIG2018', 'RNETMIG2019'],\n",
            "      dtype='object', length=151)\n",
            "['State', 'symbol']\n"
          ]
        }
      ],
      "source": [
        "print(state_population.columns)\n",
        "print(list(state_symbol.columns))"
      ]
    },
    {
      "cell_type": "code",
      "execution_count": 68,
      "metadata": {
        "colab": {
          "base_uri": "https://localhost:8080/"
        },
        "id": "qtSKhF5H1Fj4",
        "outputId": "a03d679b-5666-4575-9fec-5472b1456f80"
      },
      "outputs": [
        {
          "output_type": "execute_result",
          "data": {
            "text/plain": [
              "array(['United States', 'Northeast Region', 'Midwest Region',\n",
              "       'South Region', 'West Region', 'Alabama', 'Alaska', 'Arizona',\n",
              "       'Arkansas', 'California', 'Colorado', 'Connecticut', 'Delaware',\n",
              "       'District of Columbia', 'Florida', 'Georgia', 'Hawaii', 'Idaho',\n",
              "       'Illinois', 'Indiana', 'Iowa', 'Kansas', 'Kentucky', 'Louisiana',\n",
              "       'Maine', 'Maryland', 'Massachusetts', 'Michigan', 'Minnesota',\n",
              "       'Mississippi', 'Missouri', 'Montana', 'Nebraska', 'Nevada',\n",
              "       'New Hampshire', 'New Jersey', 'New Mexico', 'New York',\n",
              "       'North Carolina', 'North Dakota', 'Ohio', 'Oklahoma', 'Oregon',\n",
              "       'Pennsylvania', 'Rhode Island', 'South Carolina', 'South Dakota',\n",
              "       'Tennessee', 'Texas', 'Utah', 'Vermont', 'Virginia', 'Washington',\n",
              "       'West Virginia', 'Wisconsin', 'Wyoming', 'Puerto Rico'],\n",
              "      dtype=object)"
            ]
          },
          "metadata": {},
          "execution_count": 68
        }
      ],
      "source": [
        "#Get NAME, and popestimate2019\n",
        "state_population = state_population.loc[:,['NAME','POPESTIMATE2019']]\n",
        "state_population.NAME.unique()"
      ]
    },
    {
      "cell_type": "code",
      "execution_count": 69,
      "metadata": {
        "colab": {
          "base_uri": "https://localhost:8080/"
        },
        "id": "gCp4rw3S1Fj4",
        "outputId": "4f947ec9-0af8-496e-f427-8fcd002a6e1b"
      },
      "outputs": [
        {
          "output_type": "stream",
          "name": "stdout",
          "text": [
            "(50, 8) (57, 2) (51, 6) Index(['index', 'location', 'exported', 'imported', 'total', 'inUS', 'NAME',\n",
            "       'POPESTIMATE2019'],\n",
            "      dtype='object')\n"
          ]
        }
      ],
      "source": [
        "#Join with the info_US dog shelter data\n",
        "dog_state=info_US.merge(state_population,how='inner',left_on='location',right_on='NAME')\n",
        "print(dog_state.shape, state_population.shape,info_US.shape, dog_state.columns)"
      ]
    },
    {
      "cell_type": "code",
      "source": [
        "dog_state.head()"
      ],
      "metadata": {
        "colab": {
          "base_uri": "https://localhost:8080/",
          "height": 206
        },
        "id": "CoZI45KoD2Ff",
        "outputId": "fe455f34-663a-432d-b511-cf6ee16c722f"
      },
      "execution_count": 70,
      "outputs": [
        {
          "output_type": "execute_result",
          "data": {
            "text/plain": [
              "   index        location  exported  imported   total  inUS            NAME  \\\n",
              "0      0           Texas     635.0       0.0   566.0  True           Texas   \n",
              "1      1         Alabama     268.0       2.0  1428.0  True         Alabama   \n",
              "2      2  North Carolina     158.0      14.0  2627.0  True  North Carolina   \n",
              "3      3  South Carolina     139.0      12.0  1618.0  True  South Carolina   \n",
              "4      4         Georgia     137.0      19.0  3479.0  True         Georgia   \n",
              "\n",
              "   POPESTIMATE2019  \n",
              "0         28995881  \n",
              "1          4903185  \n",
              "2         10488084  \n",
              "3          5148714  \n",
              "4         10617423  "
            ],
            "text/html": [
              "\n",
              "  <div id=\"df-f458ec97-26ba-46c2-9cc4-13aeb21eb18f\">\n",
              "    <div class=\"colab-df-container\">\n",
              "      <div>\n",
              "<style scoped>\n",
              "    .dataframe tbody tr th:only-of-type {\n",
              "        vertical-align: middle;\n",
              "    }\n",
              "\n",
              "    .dataframe tbody tr th {\n",
              "        vertical-align: top;\n",
              "    }\n",
              "\n",
              "    .dataframe thead th {\n",
              "        text-align: right;\n",
              "    }\n",
              "</style>\n",
              "<table border=\"1\" class=\"dataframe\">\n",
              "  <thead>\n",
              "    <tr style=\"text-align: right;\">\n",
              "      <th></th>\n",
              "      <th>index</th>\n",
              "      <th>location</th>\n",
              "      <th>exported</th>\n",
              "      <th>imported</th>\n",
              "      <th>total</th>\n",
              "      <th>inUS</th>\n",
              "      <th>NAME</th>\n",
              "      <th>POPESTIMATE2019</th>\n",
              "    </tr>\n",
              "  </thead>\n",
              "  <tbody>\n",
              "    <tr>\n",
              "      <th>0</th>\n",
              "      <td>0</td>\n",
              "      <td>Texas</td>\n",
              "      <td>635.0</td>\n",
              "      <td>0.0</td>\n",
              "      <td>566.0</td>\n",
              "      <td>True</td>\n",
              "      <td>Texas</td>\n",
              "      <td>28995881</td>\n",
              "    </tr>\n",
              "    <tr>\n",
              "      <th>1</th>\n",
              "      <td>1</td>\n",
              "      <td>Alabama</td>\n",
              "      <td>268.0</td>\n",
              "      <td>2.0</td>\n",
              "      <td>1428.0</td>\n",
              "      <td>True</td>\n",
              "      <td>Alabama</td>\n",
              "      <td>4903185</td>\n",
              "    </tr>\n",
              "    <tr>\n",
              "      <th>2</th>\n",
              "      <td>2</td>\n",
              "      <td>North Carolina</td>\n",
              "      <td>158.0</td>\n",
              "      <td>14.0</td>\n",
              "      <td>2627.0</td>\n",
              "      <td>True</td>\n",
              "      <td>North Carolina</td>\n",
              "      <td>10488084</td>\n",
              "    </tr>\n",
              "    <tr>\n",
              "      <th>3</th>\n",
              "      <td>3</td>\n",
              "      <td>South Carolina</td>\n",
              "      <td>139.0</td>\n",
              "      <td>12.0</td>\n",
              "      <td>1618.0</td>\n",
              "      <td>True</td>\n",
              "      <td>South Carolina</td>\n",
              "      <td>5148714</td>\n",
              "    </tr>\n",
              "    <tr>\n",
              "      <th>4</th>\n",
              "      <td>4</td>\n",
              "      <td>Georgia</td>\n",
              "      <td>137.0</td>\n",
              "      <td>19.0</td>\n",
              "      <td>3479.0</td>\n",
              "      <td>True</td>\n",
              "      <td>Georgia</td>\n",
              "      <td>10617423</td>\n",
              "    </tr>\n",
              "  </tbody>\n",
              "</table>\n",
              "</div>\n",
              "      <button class=\"colab-df-convert\" onclick=\"convertToInteractive('df-f458ec97-26ba-46c2-9cc4-13aeb21eb18f')\"\n",
              "              title=\"Convert this dataframe to an interactive table.\"\n",
              "              style=\"display:none;\">\n",
              "        \n",
              "  <svg xmlns=\"http://www.w3.org/2000/svg\" height=\"24px\"viewBox=\"0 0 24 24\"\n",
              "       width=\"24px\">\n",
              "    <path d=\"M0 0h24v24H0V0z\" fill=\"none\"/>\n",
              "    <path d=\"M18.56 5.44l.94 2.06.94-2.06 2.06-.94-2.06-.94-.94-2.06-.94 2.06-2.06.94zm-11 1L8.5 8.5l.94-2.06 2.06-.94-2.06-.94L8.5 2.5l-.94 2.06-2.06.94zm10 10l.94 2.06.94-2.06 2.06-.94-2.06-.94-.94-2.06-.94 2.06-2.06.94z\"/><path d=\"M17.41 7.96l-1.37-1.37c-.4-.4-.92-.59-1.43-.59-.52 0-1.04.2-1.43.59L10.3 9.45l-7.72 7.72c-.78.78-.78 2.05 0 2.83L4 21.41c.39.39.9.59 1.41.59.51 0 1.02-.2 1.41-.59l7.78-7.78 2.81-2.81c.8-.78.8-2.07 0-2.86zM5.41 20L4 18.59l7.72-7.72 1.47 1.35L5.41 20z\"/>\n",
              "  </svg>\n",
              "      </button>\n",
              "      \n",
              "  <style>\n",
              "    .colab-df-container {\n",
              "      display:flex;\n",
              "      flex-wrap:wrap;\n",
              "      gap: 12px;\n",
              "    }\n",
              "\n",
              "    .colab-df-convert {\n",
              "      background-color: #E8F0FE;\n",
              "      border: none;\n",
              "      border-radius: 50%;\n",
              "      cursor: pointer;\n",
              "      display: none;\n",
              "      fill: #1967D2;\n",
              "      height: 32px;\n",
              "      padding: 0 0 0 0;\n",
              "      width: 32px;\n",
              "    }\n",
              "\n",
              "    .colab-df-convert:hover {\n",
              "      background-color: #E2EBFA;\n",
              "      box-shadow: 0px 1px 2px rgba(60, 64, 67, 0.3), 0px 1px 3px 1px rgba(60, 64, 67, 0.15);\n",
              "      fill: #174EA6;\n",
              "    }\n",
              "\n",
              "    [theme=dark] .colab-df-convert {\n",
              "      background-color: #3B4455;\n",
              "      fill: #D2E3FC;\n",
              "    }\n",
              "\n",
              "    [theme=dark] .colab-df-convert:hover {\n",
              "      background-color: #434B5C;\n",
              "      box-shadow: 0px 1px 3px 1px rgba(0, 0, 0, 0.15);\n",
              "      filter: drop-shadow(0px 1px 2px rgba(0, 0, 0, 0.3));\n",
              "      fill: #FFFFFF;\n",
              "    }\n",
              "  </style>\n",
              "\n",
              "      <script>\n",
              "        const buttonEl =\n",
              "          document.querySelector('#df-f458ec97-26ba-46c2-9cc4-13aeb21eb18f button.colab-df-convert');\n",
              "        buttonEl.style.display =\n",
              "          google.colab.kernel.accessAllowed ? 'block' : 'none';\n",
              "\n",
              "        async function convertToInteractive(key) {\n",
              "          const element = document.querySelector('#df-f458ec97-26ba-46c2-9cc4-13aeb21eb18f');\n",
              "          const dataTable =\n",
              "            await google.colab.kernel.invokeFunction('convertToInteractive',\n",
              "                                                     [key], {});\n",
              "          if (!dataTable) return;\n",
              "\n",
              "          const docLinkHtml = 'Like what you see? Visit the ' +\n",
              "            '<a target=\"_blank\" href=https://colab.research.google.com/notebooks/data_table.ipynb>data table notebook</a>'\n",
              "            + ' to learn more about interactive tables.';\n",
              "          element.innerHTML = '';\n",
              "          dataTable['output_type'] = 'display_data';\n",
              "          await google.colab.output.renderOutput(dataTable, element);\n",
              "          const docLink = document.createElement('div');\n",
              "          docLink.innerHTML = docLinkHtml;\n",
              "          element.appendChild(docLink);\n",
              "        }\n",
              "      </script>\n",
              "    </div>\n",
              "  </div>\n",
              "  "
            ]
          },
          "metadata": {},
          "execution_count": 70
        }
      ]
    },
    {
      "cell_type": "code",
      "execution_count": 73,
      "metadata": {
        "colab": {
          "base_uri": "https://localhost:8080/",
          "height": 738
        },
        "id": "klYqAsDu1Fj4",
        "outputId": "a3b5742f-24a1-4a10-d5b6-b36a52d6291c"
      },
      "outputs": [
        {
          "output_type": "execute_result",
          "data": {
            "text/plain": [
              "<seaborn.axisgrid.FacetGrid at 0x7f71e3a95dc0>"
            ]
          },
          "metadata": {},
          "execution_count": 73
        },
        {
          "output_type": "display_data",
          "data": {
            "text/plain": [
              "<Figure size 360x360 with 1 Axes>"
            ],
            "image/png": "[encoded data removed]"
          },
          "metadata": {
            "needs_background": "light"
          }
        },
        {
          "output_type": "display_data",
          "data": {
            "text/plain": [
              "<Figure size 360x360 with 1 Axes>"
            ],
            "image/png": "[encoded data removed]"
          },
          "metadata": {
            "needs_background": "light"
          }
        }
      ],
      "source": [
        "\n",
        "ax1= sns.displot(data = dog_state,x='total')\n",
        "ax1.set(xlabel='Distribution of total number of dogs in shelters in each state')\n",
        "ax2= sns.displot(data = dog_state,x='POPESTIMATE2019')\n",
        "ax2.set(xlabel='Distribution of population in each states in 2019')"
      ]
    },
    {
      "cell_type": "code",
      "source": [
        "COLOR_dogtotal = \"#000000\"\n",
        "COLOR_population = \"#3399e6\"\n",
        "dog_state.sort_values(by='total',axis=0, ascending = False,inplace=True)\n",
        "fig, ax1 = plt.subplots(figsize=(26, 8))\n",
        "ax2 = ax1.twinx()\n",
        "\n",
        "ax1.plot(dog_state['location'],dog_state['total'], color=COLOR_dogtotal, lw=3)\n",
        "ax2.plot(dog_state['location'],dog_state['POPESTIMATE2019'], color=COLOR_population, lw=4)\n",
        "\n",
        "ax1.set_xlabel(\"State\")\n",
        "ax1.set_ylabel(\"Number of dogs\", color=COLOR_dogtotal, fontsize=14)\n",
        "ax1.tick_params(axis=\"y\", labelcolor=COLOR_dogtotal)\n",
        "\n",
        "ax2.set_ylabel(\"Population\", color=COLOR_population, fontsize=14)\n",
        "ax2.tick_params(axis=\"y\", labelcolor=COLOR_population)\n",
        "\n",
        "fig.suptitle(\"Total number of dogs in shelters and population in each states\", fontsize=20)\n",
        "fig.autofmt_xdate()"
      ],
      "metadata": {
        "colab": {
          "base_uri": "https://localhost:8080/",
          "height": 481
        },
        "id": "X0rNVPeXEVkQ",
        "outputId": "eeedb644-c9cf-4331-c203-dd9624b298ca"
      },
      "execution_count": 78,
      "outputs": [
        {
          "output_type": "display_data",
          "data": {
            "text/plain": [
              "<Figure size 1872x576 with 2 Axes>"
            ],
            "image/png": "[encoded data removed]"
          },
          "metadata": {}
        }
      ]
    },
    {
      "cell_type": "code",
      "execution_count": 75,
      "metadata": {
        "colab": {
          "base_uri": "https://localhost:8080/"
        },
        "id": "YgK88Vaf1Fj5",
        "outputId": "15e205e2-0c4d-40c5-fde6-590796bbab98"
      },
      "outputs": [
        {
          "output_type": "stream",
          "name": "stdout",
          "text": [
            "Covariance:\n",
            " [[1.03685948e+06 3.82540291e+09]\n",
            " [3.82540291e+09 5.46014863e+13]] \n",
            "\n",
            "Pearson correlation:\n",
            " 0.5084110728067126 \n",
            "\n",
            "Spearmans correlation:\n",
            " 0.8127641192621534\n"
          ]
        }
      ],
      "source": [
        "#Calculate the covariance between the total number of dog and the population in each states\n",
        "from scipy.stats import pearsonr\n",
        "from scipy.stats import spearmanr\n",
        "covariance = np.cov(dog_state.total,dog_state.POPESTIMATE2019)\n",
        "corr_pearson, _ = pearsonr(dog_state.total,dog_state.POPESTIMATE2019)\n",
        "corr_spearman, _ = spearmanr(dog_state.total,dog_state.POPESTIMATE2019)\n",
        "print('Covariance:\\n',covariance,'\\n') #assume gaussian distribution\n",
        "print('Pearson correlation:\\n',corr_pearson,'\\n') #assume gaussian distribtuion\n",
        "print('Spearmans correlation:\\n',corr_spearman) #monotonic relationship, not assume gaussian-like distribution"
      ]
    },
    {
      "cell_type": "markdown",
      "source": [
        "The distribution is not gaussian and thus, the spearmans correlations will be more suitable. The calculated value shows possitive correlation between number of dogs in shelter and the population in each states "
      ],
      "metadata": {
        "id": "4Egv-gkyF1hn"
      }
    },
    {
      "cell_type": "markdown",
      "source": [
        "## Characteristics of dogs in shelters across USA"
      ],
      "metadata": {
        "id": "dOyVMioh81j1"
      }
    },
    {
      "cell_type": "code",
      "execution_count": 89,
      "metadata": {
        "colab": {
          "base_uri": "https://localhost:8080/",
          "height": 514
        },
        "id": "-5HISHob1Fj5",
        "outputId": "940850bd-1c98-4b30-ec1f-29d287fdb051"
      },
      "outputs": [
        {
          "output_type": "execute_result",
          "data": {
            "text/plain": [
              "<matplotlib.axes._subplots.AxesSubplot at 0x7f71dedc3670>"
            ]
          },
          "metadata": {},
          "execution_count": 89
        },
        {
          "output_type": "display_data",
          "data": {
            "text/plain": [
              "<Figure size 1296x576 with 4 Axes>"
            ],
            "image/png": "[encoded data removed]"
          },
          "metadata": {
            "needs_background": "light"
          }
        }
      ],
      "source": [
        "#Type of dogs in the shelters:\n",
        "alldogs_US=alldogs[alldogs.contact_country=='US']\n",
        "alldogs_US= alldogs_US.fillna('MissingData')\n",
        "fig, axs = plt.subplots(2,2,figsize=(18,8))\n",
        "sns.histplot(data = alldogs_US, x='age', ax=axs[0,0])\n",
        "sns.histplot(data = alldogs_US, x='size', ax=axs[0,1])\n",
        "sns.histplot(data = alldogs_US, x='sex', ax=axs[1,0])\n",
        "sns.histplot(data = alldogs_US, x='coat', ax=axs[1,1])\n"
      ]
    },
    {
      "cell_type": "code",
      "execution_count": 90,
      "metadata": {
        "colab": {
          "base_uri": "https://localhost:8080/"
        },
        "id": "52xcxeCy1Fj6",
        "outputId": "60a02fb7-e5f6-424d-f244-b4c657f44710"
      },
      "outputs": [
        {
          "output_type": "stream",
          "name": "stdout",
          "text": [
            "children friendly dog:\n",
            " True     23588\n",
            "False     4439\n",
            "Name: env_children, dtype: int64\n",
            "NY    4002\n",
            "GA    3479\n",
            "VA    3058\n",
            "NJ    3022\n",
            "PA    2821\n",
            "Name: contact_state, dtype: int64\n"
          ]
        }
      ],
      "source": [
        "#print(alldogs.columns)\n",
        "print('children friendly dog:\\n',alldogs.env_children.value_counts())\n",
        "print(alldogs.contact_state.value_counts()[0:5])\n"
      ]
    },
    {
      "cell_type": "markdown",
      "metadata": {
        "id": "1yO7xWg-1Fj6"
      },
      "source": [
        "Following is the characteristics of the dogs in shelters:\n",
        "1. Age: majority is adult and yong dogs. For senior: the dog could be removed/euthernize after several years in shelters, and people typically won't give up the old dog after long time of nurturing. \n",
        "2. Size: Typically the medium and large size dog will end up in the local shelters, which could perhaps due to the general perception of agressiveness. \n",
        "3. Sex: not much different between male and female dog. all genders seem to equally represent in the dataset\n",
        "4. Coat: Althgouh the data of this feature is not completed with about 30000 missing records, but we still have some trend in which the short hair dogs are the common feature across dogs in the shelters\n",
        "5. special_needs: most of dogs don't need any special care\n",
        "6. States that have most dogs in shelters: New York, Georgia, Virginia, New Jersey\n",
        "7. Children friendly dog: majority of dog is children friendly\n",
        "\n",
        "The size and the coat features could also a variable show the trend from the type of breeds."
      ]
    },
    {
      "cell_type": "markdown",
      "source": [
        "## Common breeds in shelters"
      ],
      "metadata": {
        "id": "Mo6eupQNH6eB"
      }
    },
    {
      "cell_type": "code",
      "execution_count": 91,
      "metadata": {
        "colab": {
          "base_uri": "https://localhost:8080/",
          "height": 335
        },
        "id": "LYXnZGhd1Fj5",
        "outputId": "ffa42417-17e1-427e-bc16-d20a38885e02"
      },
      "outputs": [
        {
          "output_type": "stream",
          "name": "stdout",
          "text": [
            "Total number of mixed breed (val = True) and pure breed (val = False):\n",
            " breed_mixed\n",
            "False    16589\n",
            "True     41591\n",
            "Name: id, dtype: int64\n"
          ]
        },
        {
          "output_type": "display_data",
          "data": {
            "text/plain": [
              "<Figure size 432x288 with 1 Axes>"
            ],
            "image/png": "[encoded data removed]"
          },
          "metadata": {}
        }
      ],
      "source": [
        "from pandas._libs.tslibs.vectorized import is_date_array_normalized\n",
        "#number types and breed of dog that brought into shelters:\n",
        "is_mixed_breed = alldogs.groupby('breed_mixed')['id'].count()\n",
        "print('Total number of mixed breed (val = True) and pure breed (val = False):\\n'\n",
        "      ,is_mixed_breed)\n",
        "plt.pie(is_mixed_breed, labels =['Pure breed','Mixed breed'])\n",
        "plt.show()\n",
        "#breed_type=pd.DataFrame(alldogs.iloc[:,[6]].value_counts(),columns=['total']).reset_index().sort_values('total',ascending = False)\n",
        "#breed_type.tail()"
      ]
    },
    {
      "cell_type": "markdown",
      "metadata": {
        "id": "6p-ndtzO1Fj5"
      },
      "source": [
        "Majority of dogs in shelter are mixed breed. The pure breed is about one fifth of the total population"
      ]
    },
    {
      "cell_type": "code",
      "execution_count": 92,
      "metadata": {
        "colab": {
          "base_uri": "https://localhost:8080/",
          "height": 594
        },
        "id": "o407BGKv1Fj6",
        "outputId": "dca498b4-04de-48aa-9fc5-8368d4918413"
      },
      "outputs": [
        {
          "output_type": "stream",
          "name": "stdout",
          "text": [
            "Total number of different breeds:\n",
            " 216\n",
            "Top 20 breeds in shelters across US:\n"
          ]
        },
        {
          "output_type": "display_data",
          "data": {
            "text/html": [
              "<html>\n",
              "<head><meta charset=\"utf-8\" /></head>\n",
              "<body>\n",
              "    <div>            <script src=\"https://cdnjs.cloudflare.com/ajax/libs/mathjax/2.7.5/MathJax.js?config=TeX-AMS-MML_SVG\"></script><script type=\"text/javascript\">if (window.MathJax) {MathJax.Hub.Config({SVG: {font: \"STIX-Web\"}});}</script>                <script type=\"text/javascript\">window.PlotlyConfig = {MathJaxConfig: 'local'};</script>\n",
              "        <script src=\"https://cdn.plot.ly/plotly-2.8.3.min.js\"></script>                <div id=\"36eece37-f276-4536-b283-e3ca37545dae\" class=\"plotly-graph-div\" style=\"height:525px; width:100%;\"></div>            <script type=\"text/javascript\">                                    window.PLOTLYENV=window.PLOTLYENV || {};                                    if (document.getElementById(\"36eece37-f276-4536-b283-e3ca37545dae\")) {                    Plotly.newPlot(                        \"36eece37-f276-4536-b283-e3ca37545dae\",                        [{\"hovertemplate\":\"id=%{x}<br>breed_primary=%{y}<extra></extra>\",\"legendgroup\":\"\",\"marker\":{\"color\":\"#636efa\"},\"name\":\"\",\"orientation\":\"h\",\"showlegend\":false,\"x\":[7890,7198,3766,3242,2641,2282,2122,2050,1972,1862,1539,1134,973,853,817,696,637,567,545,538],\"xaxis\":\"x\",\"y\":[\"Pit Bull Terrier\",\"Labrador Retriever\",\"Chihuahua\",\"Mixed Breed\",\"Terrier\",\"Hound\",\"German Shepherd Dog\",\"Boxer\",\"Shepherd\",\"American Staffordshire Terrier\",\"Beagle\",\"American Bulldog\",\"Australian Cattle Dog / Blue Heeler\",\"Dachshund\",\"Border Collie\",\"Australian Shepherd\",\"Jack Russell Terrier\",\"Husky\",\"Black Labrador Retriever\",\"Retriever\"],\"yaxis\":\"y\",\"type\":\"funnel\"}],                        {\"template\":{\"data\":{\"bar\":[{\"error_x\":{\"color\":\"#2a3f5f\"},\"error_y\":{\"color\":\"#2a3f5f\"},\"marker\":{\"line\":{\"color\":\"#E5ECF6\",\"width\":0.5},\"pattern\":{\"fillmode\":\"overlay\",\"size\":10,\"solidity\":0.2}},\"type\":\"bar\"}],\"barpolar\":[{\"marker\":{\"line\":{\"color\":\"#E5ECF6\",\"width\":0.5},\"pattern\":{\"fillmode\":\"overlay\",\"size\":10,\"solidity\":0.2}},\"type\":\"barpolar\"}],\"carpet\":[{\"aaxis\":{\"endlinecolor\":\"#2a3f5f\",\"gridcolor\":\"white\",\"linecolor\":\"white\",\"minorgridcolor\":\"white\",\"startlinecolor\":\"#2a3f5f\"},\"baxis\":{\"endlinecolor\":\"#2a3f5f\",\"gridcolor\":\"white\",\"linecolor\":\"white\",\"minorgridcolor\":\"white\",\"startlinecolor\":\"#2a3f5f\"},\"type\":\"carpet\"}],\"choropleth\":[{\"colorbar\":{\"outlinewidth\":0,\"ticks\":\"\"},\"type\":\"choropleth\"}],\"contour\":[{\"colorbar\":{\"outlinewidth\":0,\"ticks\":\"\"},\"colorscale\":[[0.0,\"#0d0887\"],[0.1111111111111111,\"#46039f\"],[0.2222222222222222,\"#7201a8\"],[0.3333333333333333,\"#9c179e\"],[0.4444444444444444,\"#bd3786\"],[0.5555555555555556,\"#d8576b\"],[0.6666666666666666,\"#ed7953\"],[0.7777777777777778,\"#fb9f3a\"],[0.8888888888888888,\"#fdca26\"],[1.0,\"#f0f921\"]],\"type\":\"contour\"}],\"contourcarpet\":[{\"colorbar\":{\"outlinewidth\":0,\"ticks\":\"\"},\"type\":\"contourcarpet\"}],\"heatmap\":[{\"colorbar\":{\"outlinewidth\":0,\"ticks\":\"\"},\"colorscale\":[[0.0,\"#0d0887\"],[0.1111111111111111,\"#46039f\"],[0.2222222222222222,\"#7201a8\"],[0.3333333333333333,\"#9c179e\"],[0.4444444444444444,\"#bd3786\"],[0.5555555555555556,\"#d8576b\"],[0.6666666666666666,\"#ed7953\"],[0.7777777777777778,\"#fb9f3a\"],[0.8888888888888888,\"#fdca26\"],[1.0,\"#f0f921\"]],\"type\":\"heatmap\"}],\"heatmapgl\":[{\"colorbar\":{\"outlinewidth\":0,\"ticks\":\"\"},\"colorscale\":[[0.0,\"#0d0887\"],[0.1111111111111111,\"#46039f\"],[0.2222222222222222,\"#7201a8\"],[0.3333333333333333,\"#9c179e\"],[0.4444444444444444,\"#bd3786\"],[0.5555555555555556,\"#d8576b\"],[0.6666666666666666,\"#ed7953\"],[0.7777777777777778,\"#fb9f3a\"],[0.8888888888888888,\"#fdca26\"],[1.0,\"#f0f921\"]],\"type\":\"heatmapgl\"}],\"histogram\":[{\"marker\":{\"pattern\":{\"fillmode\":\"overlay\",\"size\":10,\"solidity\":0.2}},\"type\":\"histogram\"}],\"histogram2d\":[{\"colorbar\":{\"outlinewidth\":0,\"ticks\":\"\"},\"colorscale\":[[0.0,\"#0d0887\"],[0.1111111111111111,\"#46039f\"],[0.2222222222222222,\"#7201a8\"],[0.3333333333333333,\"#9c179e\"],[0.4444444444444444,\"#bd3786\"],[0.5555555555555556,\"#d8576b\"],[0.6666666666666666,\"#ed7953\"],[0.7777777777777778,\"#fb9f3a\"],[0.8888888888888888,\"#fdca26\"],[1.0,\"#f0f921\"]],\"type\":\"histogram2d\"}],\"histogram2dcontour\":[{\"colorbar\":{\"outlinewidth\":0,\"ticks\":\"\"},\"colorscale\":[[0.0,\"#0d0887\"],[0.1111111111111111,\"#46039f\"],[0.2222222222222222,\"#7201a8\"],[0.3333333333333333,\"#9c179e\"],[0.4444444444444444,\"#bd3786\"],[0.5555555555555556,\"#d8576b\"],[0.6666666666666666,\"#ed7953\"],[0.7777777777777778,\"#fb9f3a\"],[0.8888888888888888,\"#fdca26\"],[1.0,\"#f0f921\"]],\"type\":\"histogram2dcontour\"}],\"mesh3d\":[{\"colorbar\":{\"outlinewidth\":0,\"ticks\":\"\"},\"type\":\"mesh3d\"}],\"parcoords\":[{\"line\":{\"colorbar\":{\"outlinewidth\":0,\"ticks\":\"\"}},\"type\":\"parcoords\"}],\"pie\":[{\"automargin\":true,\"type\":\"pie\"}],\"scatter\":[{\"marker\":{\"colorbar\":{\"outlinewidth\":0,\"ticks\":\"\"}},\"type\":\"scatter\"}],\"scatter3d\":[{\"line\":{\"colorbar\":{\"outlinewidth\":0,\"ticks\":\"\"}},\"marker\":{\"colorbar\":{\"outlinewidth\":0,\"ticks\":\"\"}},\"type\":\"scatter3d\"}],\"scattercarpet\":[{\"marker\":{\"colorbar\":{\"outlinewidth\":0,\"ticks\":\"\"}},\"type\":\"scattercarpet\"}],\"scattergeo\":[{\"marker\":{\"colorbar\":{\"outlinewidth\":0,\"ticks\":\"\"}},\"type\":\"scattergeo\"}],\"scattergl\":[{\"marker\":{\"colorbar\":{\"outlinewidth\":0,\"ticks\":\"\"}},\"type\":\"scattergl\"}],\"scattermapbox\":[{\"marker\":{\"colorbar\":{\"outlinewidth\":0,\"ticks\":\"\"}},\"type\":\"scattermapbox\"}],\"scatterpolar\":[{\"marker\":{\"colorbar\":{\"outlinewidth\":0,\"ticks\":\"\"}},\"type\":\"scatterpolar\"}],\"scatterpolargl\":[{\"marker\":{\"colorbar\":{\"outlinewidth\":0,\"ticks\":\"\"}},\"type\":\"scatterpolargl\"}],\"scatterternary\":[{\"marker\":{\"colorbar\":{\"outlinewidth\":0,\"ticks\":\"\"}},\"type\":\"scatterternary\"}],\"surface\":[{\"colorbar\":{\"outlinewidth\":0,\"ticks\":\"\"},\"colorscale\":[[0.0,\"#0d0887\"],[0.1111111111111111,\"#46039f\"],[0.2222222222222222,\"#7201a8\"],[0.3333333333333333,\"#9c179e\"],[0.4444444444444444,\"#bd3786\"],[0.5555555555555556,\"#d8576b\"],[0.6666666666666666,\"#ed7953\"],[0.7777777777777778,\"#fb9f3a\"],[0.8888888888888888,\"#fdca26\"],[1.0,\"#f0f921\"]],\"type\":\"surface\"}],\"table\":[{\"cells\":{\"fill\":{\"color\":\"#EBF0F8\"},\"line\":{\"color\":\"white\"}},\"header\":{\"fill\":{\"color\":\"#C8D4E3\"},\"line\":{\"color\":\"white\"}},\"type\":\"table\"}]},\"layout\":{\"annotationdefaults\":{\"arrowcolor\":\"#2a3f5f\",\"arrowhead\":0,\"arrowwidth\":1},\"autotypenumbers\":\"strict\",\"coloraxis\":{\"colorbar\":{\"outlinewidth\":0,\"ticks\":\"\"}},\"colorscale\":{\"diverging\":[[0,\"#8e0152\"],[0.1,\"#c51b7d\"],[0.2,\"#de77ae\"],[0.3,\"#f1b6da\"],[0.4,\"#fde0ef\"],[0.5,\"#f7f7f7\"],[0.6,\"#e6f5d0\"],[0.7,\"#b8e186\"],[0.8,\"#7fbc41\"],[0.9,\"#4d9221\"],[1,\"#276419\"]],\"sequential\":[[0.0,\"#0d0887\"],[0.1111111111111111,\"#46039f\"],[0.2222222222222222,\"#7201a8\"],[0.3333333333333333,\"#9c179e\"],[0.4444444444444444,\"#bd3786\"],[0.5555555555555556,\"#d8576b\"],[0.6666666666666666,\"#ed7953\"],[0.7777777777777778,\"#fb9f3a\"],[0.8888888888888888,\"#fdca26\"],[1.0,\"#f0f921\"]],\"sequentialminus\":[[0.0,\"#0d0887\"],[0.1111111111111111,\"#46039f\"],[0.2222222222222222,\"#7201a8\"],[0.3333333333333333,\"#9c179e\"],[0.4444444444444444,\"#bd3786\"],[0.5555555555555556,\"#d8576b\"],[0.6666666666666666,\"#ed7953\"],[0.7777777777777778,\"#fb9f3a\"],[0.8888888888888888,\"#fdca26\"],[1.0,\"#f0f921\"]]},\"colorway\":[\"#636efa\",\"#EF553B\",\"#00cc96\",\"#ab63fa\",\"#FFA15A\",\"#19d3f3\",\"#FF6692\",\"#B6E880\",\"#FF97FF\",\"#FECB52\"],\"font\":{\"color\":\"#2a3f5f\"},\"geo\":{\"bgcolor\":\"white\",\"lakecolor\":\"white\",\"landcolor\":\"#E5ECF6\",\"showlakes\":true,\"showland\":true,\"subunitcolor\":\"white\"},\"hoverlabel\":{\"align\":\"left\"},\"hovermode\":\"closest\",\"mapbox\":{\"style\":\"light\"},\"paper_bgcolor\":\"white\",\"plot_bgcolor\":\"#E5ECF6\",\"polar\":{\"angularaxis\":{\"gridcolor\":\"white\",\"linecolor\":\"white\",\"ticks\":\"\"},\"bgcolor\":\"#E5ECF6\",\"radialaxis\":{\"gridcolor\":\"white\",\"linecolor\":\"white\",\"ticks\":\"\"}},\"scene\":{\"xaxis\":{\"backgroundcolor\":\"#E5ECF6\",\"gridcolor\":\"white\",\"gridwidth\":2,\"linecolor\":\"white\",\"showbackground\":true,\"ticks\":\"\",\"zerolinecolor\":\"white\"},\"yaxis\":{\"backgroundcolor\":\"#E5ECF6\",\"gridcolor\":\"white\",\"gridwidth\":2,\"linecolor\":\"white\",\"showbackground\":true,\"ticks\":\"\",\"zerolinecolor\":\"white\"},\"zaxis\":{\"backgroundcolor\":\"#E5ECF6\",\"gridcolor\":\"white\",\"gridwidth\":2,\"linecolor\":\"white\",\"showbackground\":true,\"ticks\":\"\",\"zerolinecolor\":\"white\"}},\"shapedefaults\":{\"line\":{\"color\":\"#2a3f5f\"}},\"ternary\":{\"aaxis\":{\"gridcolor\":\"white\",\"linecolor\":\"white\",\"ticks\":\"\"},\"baxis\":{\"gridcolor\":\"white\",\"linecolor\":\"white\",\"ticks\":\"\"},\"bgcolor\":\"#E5ECF6\",\"caxis\":{\"gridcolor\":\"white\",\"linecolor\":\"white\",\"ticks\":\"\"}},\"title\":{\"x\":0.05},\"xaxis\":{\"automargin\":true,\"gridcolor\":\"white\",\"linecolor\":\"white\",\"ticks\":\"\",\"title\":{\"standoff\":15},\"zerolinecolor\":\"white\",\"zerolinewidth\":2},\"yaxis\":{\"automargin\":true,\"gridcolor\":\"white\",\"linecolor\":\"white\",\"ticks\":\"\",\"title\":{\"standoff\":15},\"zerolinecolor\":\"white\",\"zerolinewidth\":2}}},\"xaxis\":{\"anchor\":\"y\",\"domain\":[0.0,1.0],\"title\":{\"text\":\"id\"}},\"yaxis\":{\"anchor\":\"x\",\"domain\":[0.0,1.0],\"title\":{\"text\":\"breed_primary\"}},\"legend\":{\"tracegroupgap\":0},\"margin\":{\"t\":60}},                        {\"responsive\": true}                    ).then(function(){\n",
              "                            \n",
              "var gd = document.getElementById('36eece37-f276-4536-b283-e3ca37545dae');\n",
              "var x = new MutationObserver(function (mutations, observer) {{\n",
              "        var display = window.getComputedStyle(gd).display;\n",
              "        if (!display || display === 'none') {{\n",
              "            console.log([gd, 'removed!']);\n",
              "            Plotly.purge(gd);\n",
              "            observer.disconnect();\n",
              "        }}\n",
              "}});\n",
              "\n",
              "// Listen for the removal of the full notebook cells\n",
              "var notebookContainer = gd.closest('#notebook-container');\n",
              "if (notebookContainer) {{\n",
              "    x.observe(notebookContainer, {childList: true});\n",
              "}}\n",
              "\n",
              "// Listen for the clearing of the current output cell\n",
              "var outputEl = gd.closest('.output');\n",
              "if (outputEl) {{\n",
              "    x.observe(outputEl, {childList: true});\n",
              "}}\n",
              "\n",
              "                        })                };                            </script>        </div>\n",
              "</body>\n",
              "</html>"
            ]
          },
          "metadata": {}
        }
      ],
      "source": [
        "#top 10 number of dog ends up in the shelters:\n",
        "breeds = alldogs.groupby('breed_primary')['id'].count().sort_values(ascending = False)\n",
        "print('Total number of different breeds:\\n',breeds.shape[0])\n",
        "breeds = pd.DataFrame(breeds)\n",
        "breeds['percent']=round(breeds['id']/breeds['id'].sum()*100,2)\n",
        "breeds.reset_index(inplace=True)\n",
        "#Visualize the type of breeds in all location USA\n",
        "print('Top 20 breeds in shelters across US:')\n",
        "import plotly.express as px\n",
        "fig = px.funnel(breeds[0:20], y='breed_primary', x='id')\n",
        "fig.show()\n"
      ]
    },
    {
      "cell_type": "code",
      "execution_count": 93,
      "metadata": {
        "colab": {
          "base_uri": "https://localhost:8080/",
          "height": 559
        },
        "id": "q86y6z3F1Fj6",
        "outputId": "82de57ad-61a9-4854-e3b1-902b8a382b5f"
      },
      "outputs": [
        {
          "output_type": "stream",
          "name": "stdout",
          "text": [
            "Bottom 100 breeds in shelters across US:\n"
          ]
        },
        {
          "output_type": "display_data",
          "data": {
            "text/html": [
              "<html>\n",
              "<head><meta charset=\"utf-8\" /></head>\n",
              "<body>\n",
              "    <div>            <script src=\"https://cdnjs.cloudflare.com/ajax/libs/mathjax/2.7.5/MathJax.js?config=TeX-AMS-MML_SVG\"></script><script type=\"text/javascript\">if (window.MathJax) {MathJax.Hub.Config({SVG: {font: \"STIX-Web\"}});}</script>                <script type=\"text/javascript\">window.PlotlyConfig = {MathJaxConfig: 'local'};</script>\n",
              "        <script src=\"https://cdn.plot.ly/plotly-2.8.3.min.js\"></script>                <div id=\"0d03c813-4881-4385-9666-6bd6a59edc7d\" class=\"plotly-graph-div\" style=\"height:525px; width:100%;\"></div>            <script type=\"text/javascript\">                                    window.PLOTLYENV=window.PLOTLYENV || {};                                    if (document.getElementById(\"0d03c813-4881-4385-9666-6bd6a59edc7d\")) {                    Plotly.newPlot(                        \"0d03c813-4881-4385-9666-6bd6a59edc7d\",                        [{\"hovertemplate\":\"id=%{x}<br>breed_primary=%{y}<extra></extra>\",\"legendgroup\":\"\",\"marker\":{\"color\":\"#636efa\"},\"name\":\"\",\"orientation\":\"h\",\"showlegend\":false,\"x\":[22,20,20,19,19,19,19,18,17,17,17,17,17,17,17,16,16,15,15,15,15,14,14,13,13,12,12,11,11,10,10,10,9,9,9,8,8,8,8,8,8,7,7,6,6,6,6,6,6,5,5,5,5,5,5,4,4,4,4,4,4,4,4,4,4,4,3,3,3,3,3,3,3,2,2,2,2,2,2,2,2,2,2,1,1,1,1,1,1,1,1,1,1,1,1,1,1,1,1,1],\"xaxis\":\"x\",\"y\":[\"Dogue de Bordeaux\",\"Bernese Mountain Dog\",\"English Shepherd\",\"Saluki\",\"Airedale Terrier\",\"Wheaten Terrier\",\"West Highland White Terrier / Westie\",\"Chinese Crested Dog\",\"White German Shepherd\",\"Affenpinscher\",\"Cockapoo\",\"Irish Wolfhound\",\"Canaan Dog\",\"American Foxhound\",\"Irish Terrier\",\"Patterdale Terrier / Fell Terrier\",\"Mountain Dog\",\"Silky Terrier\",\"Wire Fox Terrier\",\"Australian Terrier\",\"Japanese Chin\",\"Standard Schnauzer\",\"Harrier\",\"Blue Lacy\",\"Scottish Terrier\",\"Miniature Poodle\",\"Petit Basset Griffon Vendeen\",\"Xoloitzcuintli / Mexican Hairless\",\"Pharaoh Hound\",\"Setter\",\"German Wirehaired Pointer\",\"Tibetan Mastiff\",\"Tibetan Spaniel\",\"Neapolitan Mastiff\",\"Pembroke Welsh Corgi\",\"Irish Setter\",\"Smooth Collie\",\"Eskimo Dog\",\"Samoyed\",\"Galgo Spanish Greyhound\",\"Boerboel\",\"German Pinscher\",\"Greater Swiss Mountain Dog\",\"Bearded Collie\",\"Giant Schnauzer\",\"Norwegian Elkhound\",\"Borzoi\",\"Norwich Terrier\",\"Rough Collie\",\"Norfolk Terrier\",\"Nova Scotia Duck Tolling Retriever\",\"Finnish Spitz\",\"McNab\",\"Ibizan Hound\",\"Lakeland Terrier\",\"Clumber Spaniel\",\"Beauceron\",\"Smooth Fox Terrier\",\"American Hairless Terrier\",\"Wirehaired Dachshund\",\"Lancashire Heeler\",\"Portuguese Podengo\",\"Keeshond\",\"Afghan Hound\",\"English Foxhound\",\"Maremma Sheepdog\",\"Tibetan Terrier\",\"Belgian Shepherd / Sheepdog\",\"Thai Ridgeback\",\"Caucasian Sheepdog / Caucasian Ovtcharka\",\"Akbash\",\"Sheep Dog\",\"Miniature Dachshund\",\"Curly-Coated Retriever\",\"Norwegian Buhund\",\"Kyi Leo\",\"Belgian Shepherd / Tervuren\",\"Otterhound\",\"Gordon Setter\",\"Coton de Tulear\",\"German Spitz\",\"Entlebucher\",\"English Cocker Spaniel\",\"Bouvier des Flandres\",\"Chinook\",\"Chinese Foo Dog\",\"Kuvasz\",\"Wirehaired Pointing Griffon\",\"Leonberger\",\"Briard\",\"Skye Terrier\",\"Fila Brasileiro\",\"Bolognese\",\"Old English Sheepdog\",\"Belgian Shepherd / Laekenois\",\"Field Spaniel\",\"Boykin Spaniel\",\"Spinone Italiano\",\"Tosa Inu\",\"Kai Dog\"],\"yaxis\":\"y\",\"type\":\"funnel\"}],                        {\"template\":{\"data\":{\"bar\":[{\"error_x\":{\"color\":\"#2a3f5f\"},\"error_y\":{\"color\":\"#2a3f5f\"},\"marker\":{\"line\":{\"color\":\"#E5ECF6\",\"width\":0.5},\"pattern\":{\"fillmode\":\"overlay\",\"size\":10,\"solidity\":0.2}},\"type\":\"bar\"}],\"barpolar\":[{\"marker\":{\"line\":{\"color\":\"#E5ECF6\",\"width\":0.5},\"pattern\":{\"fillmode\":\"overlay\",\"size\":10,\"solidity\":0.2}},\"type\":\"barpolar\"}],\"carpet\":[{\"aaxis\":{\"endlinecolor\":\"#2a3f5f\",\"gridcolor\":\"white\",\"linecolor\":\"white\",\"minorgridcolor\":\"white\",\"startlinecolor\":\"#2a3f5f\"},\"baxis\":{\"endlinecolor\":\"#2a3f5f\",\"gridcolor\":\"white\",\"linecolor\":\"white\",\"minorgridcolor\":\"white\",\"startlinecolor\":\"#2a3f5f\"},\"type\":\"carpet\"}],\"choropleth\":[{\"colorbar\":{\"outlinewidth\":0,\"ticks\":\"\"},\"type\":\"choropleth\"}],\"contour\":[{\"colorbar\":{\"outlinewidth\":0,\"ticks\":\"\"},\"colorscale\":[[0.0,\"#0d0887\"],[0.1111111111111111,\"#46039f\"],[0.2222222222222222,\"#7201a8\"],[0.3333333333333333,\"#9c179e\"],[0.4444444444444444,\"#bd3786\"],[0.5555555555555556,\"#d8576b\"],[0.6666666666666666,\"#ed7953\"],[0.7777777777777778,\"#fb9f3a\"],[0.8888888888888888,\"#fdca26\"],[1.0,\"#f0f921\"]],\"type\":\"contour\"}],\"contourcarpet\":[{\"colorbar\":{\"outlinewidth\":0,\"ticks\":\"\"},\"type\":\"contourcarpet\"}],\"heatmap\":[{\"colorbar\":{\"outlinewidth\":0,\"ticks\":\"\"},\"colorscale\":[[0.0,\"#0d0887\"],[0.1111111111111111,\"#46039f\"],[0.2222222222222222,\"#7201a8\"],[0.3333333333333333,\"#9c179e\"],[0.4444444444444444,\"#bd3786\"],[0.5555555555555556,\"#d8576b\"],[0.6666666666666666,\"#ed7953\"],[0.7777777777777778,\"#fb9f3a\"],[0.8888888888888888,\"#fdca26\"],[1.0,\"#f0f921\"]],\"type\":\"heatmap\"}],\"heatmapgl\":[{\"colorbar\":{\"outlinewidth\":0,\"ticks\":\"\"},\"colorscale\":[[0.0,\"#0d0887\"],[0.1111111111111111,\"#46039f\"],[0.2222222222222222,\"#7201a8\"],[0.3333333333333333,\"#9c179e\"],[0.4444444444444444,\"#bd3786\"],[0.5555555555555556,\"#d8576b\"],[0.6666666666666666,\"#ed7953\"],[0.7777777777777778,\"#fb9f3a\"],[0.8888888888888888,\"#fdca26\"],[1.0,\"#f0f921\"]],\"type\":\"heatmapgl\"}],\"histogram\":[{\"marker\":{\"pattern\":{\"fillmode\":\"overlay\",\"size\":10,\"solidity\":0.2}},\"type\":\"histogram\"}],\"histogram2d\":[{\"colorbar\":{\"outlinewidth\":0,\"ticks\":\"\"},\"colorscale\":[[0.0,\"#0d0887\"],[0.1111111111111111,\"#46039f\"],[0.2222222222222222,\"#7201a8\"],[0.3333333333333333,\"#9c179e\"],[0.4444444444444444,\"#bd3786\"],[0.5555555555555556,\"#d8576b\"],[0.6666666666666666,\"#ed7953\"],[0.7777777777777778,\"#fb9f3a\"],[0.8888888888888888,\"#fdca26\"],[1.0,\"#f0f921\"]],\"type\":\"histogram2d\"}],\"histogram2dcontour\":[{\"colorbar\":{\"outlinewidth\":0,\"ticks\":\"\"},\"colorscale\":[[0.0,\"#0d0887\"],[0.1111111111111111,\"#46039f\"],[0.2222222222222222,\"#7201a8\"],[0.3333333333333333,\"#9c179e\"],[0.4444444444444444,\"#bd3786\"],[0.5555555555555556,\"#d8576b\"],[0.6666666666666666,\"#ed7953\"],[0.7777777777777778,\"#fb9f3a\"],[0.8888888888888888,\"#fdca26\"],[1.0,\"#f0f921\"]],\"type\":\"histogram2dcontour\"}],\"mesh3d\":[{\"colorbar\":{\"outlinewidth\":0,\"ticks\":\"\"},\"type\":\"mesh3d\"}],\"parcoords\":[{\"line\":{\"colorbar\":{\"outlinewidth\":0,\"ticks\":\"\"}},\"type\":\"parcoords\"}],\"pie\":[{\"automargin\":true,\"type\":\"pie\"}],\"scatter\":[{\"marker\":{\"colorbar\":{\"outlinewidth\":0,\"ticks\":\"\"}},\"type\":\"scatter\"}],\"scatter3d\":[{\"line\":{\"colorbar\":{\"outlinewidth\":0,\"ticks\":\"\"}},\"marker\":{\"colorbar\":{\"outlinewidth\":0,\"ticks\":\"\"}},\"type\":\"scatter3d\"}],\"scattercarpet\":[{\"marker\":{\"colorbar\":{\"outlinewidth\":0,\"ticks\":\"\"}},\"type\":\"scattercarpet\"}],\"scattergeo\":[{\"marker\":{\"colorbar\":{\"outlinewidth\":0,\"ticks\":\"\"}},\"type\":\"scattergeo\"}],\"scattergl\":[{\"marker\":{\"colorbar\":{\"outlinewidth\":0,\"ticks\":\"\"}},\"type\":\"scattergl\"}],\"scattermapbox\":[{\"marker\":{\"colorbar\":{\"outlinewidth\":0,\"ticks\":\"\"}},\"type\":\"scattermapbox\"}],\"scatterpolar\":[{\"marker\":{\"colorbar\":{\"outlinewidth\":0,\"ticks\":\"\"}},\"type\":\"scatterpolar\"}],\"scatterpolargl\":[{\"marker\":{\"colorbar\":{\"outlinewidth\":0,\"ticks\":\"\"}},\"type\":\"scatterpolargl\"}],\"scatterternary\":[{\"marker\":{\"colorbar\":{\"outlinewidth\":0,\"ticks\":\"\"}},\"type\":\"scatterternary\"}],\"surface\":[{\"colorbar\":{\"outlinewidth\":0,\"ticks\":\"\"},\"colorscale\":[[0.0,\"#0d0887\"],[0.1111111111111111,\"#46039f\"],[0.2222222222222222,\"#7201a8\"],[0.3333333333333333,\"#9c179e\"],[0.4444444444444444,\"#bd3786\"],[0.5555555555555556,\"#d8576b\"],[0.6666666666666666,\"#ed7953\"],[0.7777777777777778,\"#fb9f3a\"],[0.8888888888888888,\"#fdca26\"],[1.0,\"#f0f921\"]],\"type\":\"surface\"}],\"table\":[{\"cells\":{\"fill\":{\"color\":\"#EBF0F8\"},\"line\":{\"color\":\"white\"}},\"header\":{\"fill\":{\"color\":\"#C8D4E3\"},\"line\":{\"color\":\"white\"}},\"type\":\"table\"}]},\"layout\":{\"annotationdefaults\":{\"arrowcolor\":\"#2a3f5f\",\"arrowhead\":0,\"arrowwidth\":1},\"autotypenumbers\":\"strict\",\"coloraxis\":{\"colorbar\":{\"outlinewidth\":0,\"ticks\":\"\"}},\"colorscale\":{\"diverging\":[[0,\"#8e0152\"],[0.1,\"#c51b7d\"],[0.2,\"#de77ae\"],[0.3,\"#f1b6da\"],[0.4,\"#fde0ef\"],[0.5,\"#f7f7f7\"],[0.6,\"#e6f5d0\"],[0.7,\"#b8e186\"],[0.8,\"#7fbc41\"],[0.9,\"#4d9221\"],[1,\"#276419\"]],\"sequential\":[[0.0,\"#0d0887\"],[0.1111111111111111,\"#46039f\"],[0.2222222222222222,\"#7201a8\"],[0.3333333333333333,\"#9c179e\"],[0.4444444444444444,\"#bd3786\"],[0.5555555555555556,\"#d8576b\"],[0.6666666666666666,\"#ed7953\"],[0.7777777777777778,\"#fb9f3a\"],[0.8888888888888888,\"#fdca26\"],[1.0,\"#f0f921\"]],\"sequentialminus\":[[0.0,\"#0d0887\"],[0.1111111111111111,\"#46039f\"],[0.2222222222222222,\"#7201a8\"],[0.3333333333333333,\"#9c179e\"],[0.4444444444444444,\"#bd3786\"],[0.5555555555555556,\"#d8576b\"],[0.6666666666666666,\"#ed7953\"],[0.7777777777777778,\"#fb9f3a\"],[0.8888888888888888,\"#fdca26\"],[1.0,\"#f0f921\"]]},\"colorway\":[\"#636efa\",\"#EF553B\",\"#00cc96\",\"#ab63fa\",\"#FFA15A\",\"#19d3f3\",\"#FF6692\",\"#B6E880\",\"#FF97FF\",\"#FECB52\"],\"font\":{\"color\":\"#2a3f5f\"},\"geo\":{\"bgcolor\":\"white\",\"lakecolor\":\"white\",\"landcolor\":\"#E5ECF6\",\"showlakes\":true,\"showland\":true,\"subunitcolor\":\"white\"},\"hoverlabel\":{\"align\":\"left\"},\"hovermode\":\"closest\",\"mapbox\":{\"style\":\"light\"},\"paper_bgcolor\":\"white\",\"plot_bgcolor\":\"#E5ECF6\",\"polar\":{\"angularaxis\":{\"gridcolor\":\"white\",\"linecolor\":\"white\",\"ticks\":\"\"},\"bgcolor\":\"#E5ECF6\",\"radialaxis\":{\"gridcolor\":\"white\",\"linecolor\":\"white\",\"ticks\":\"\"}},\"scene\":{\"xaxis\":{\"backgroundcolor\":\"#E5ECF6\",\"gridcolor\":\"white\",\"gridwidth\":2,\"linecolor\":\"white\",\"showbackground\":true,\"ticks\":\"\",\"zerolinecolor\":\"white\"},\"yaxis\":{\"backgroundcolor\":\"#E5ECF6\",\"gridcolor\":\"white\",\"gridwidth\":2,\"linecolor\":\"white\",\"showbackground\":true,\"ticks\":\"\",\"zerolinecolor\":\"white\"},\"zaxis\":{\"backgroundcolor\":\"#E5ECF6\",\"gridcolor\":\"white\",\"gridwidth\":2,\"linecolor\":\"white\",\"showbackground\":true,\"ticks\":\"\",\"zerolinecolor\":\"white\"}},\"shapedefaults\":{\"line\":{\"color\":\"#2a3f5f\"}},\"ternary\":{\"aaxis\":{\"gridcolor\":\"white\",\"linecolor\":\"white\",\"ticks\":\"\"},\"baxis\":{\"gridcolor\":\"white\",\"linecolor\":\"white\",\"ticks\":\"\"},\"bgcolor\":\"#E5ECF6\",\"caxis\":{\"gridcolor\":\"white\",\"linecolor\":\"white\",\"ticks\":\"\"}},\"title\":{\"x\":0.05},\"xaxis\":{\"automargin\":true,\"gridcolor\":\"white\",\"linecolor\":\"white\",\"ticks\":\"\",\"title\":{\"standoff\":15},\"zerolinecolor\":\"white\",\"zerolinewidth\":2},\"yaxis\":{\"automargin\":true,\"gridcolor\":\"white\",\"linecolor\":\"white\",\"ticks\":\"\",\"title\":{\"standoff\":15},\"zerolinecolor\":\"white\",\"zerolinewidth\":2}}},\"xaxis\":{\"anchor\":\"y\",\"domain\":[0.0,1.0],\"title\":{\"text\":\"id\"}},\"yaxis\":{\"anchor\":\"x\",\"domain\":[0.0,1.0],\"title\":{\"text\":\"breed_primary\"}},\"legend\":{\"tracegroupgap\":0},\"margin\":{\"t\":60}},                        {\"responsive\": true}                    ).then(function(){\n",
              "                            \n",
              "var gd = document.getElementById('0d03c813-4881-4385-9666-6bd6a59edc7d');\n",
              "var x = new MutationObserver(function (mutations, observer) {{\n",
              "        var display = window.getComputedStyle(gd).display;\n",
              "        if (!display || display === 'none') {{\n",
              "            console.log([gd, 'removed!']);\n",
              "            Plotly.purge(gd);\n",
              "            observer.disconnect();\n",
              "        }}\n",
              "}});\n",
              "\n",
              "// Listen for the removal of the full notebook cells\n",
              "var notebookContainer = gd.closest('#notebook-container');\n",
              "if (notebookContainer) {{\n",
              "    x.observe(notebookContainer, {childList: true});\n",
              "}}\n",
              "\n",
              "// Listen for the clearing of the current output cell\n",
              "var outputEl = gd.closest('.output');\n",
              "if (outputEl) {{\n",
              "    x.observe(outputEl, {childList: true});\n",
              "}}\n",
              "\n",
              "                        })                };                            </script>        </div>\n",
              "</body>\n",
              "</html>"
            ]
          },
          "metadata": {}
        }
      ],
      "source": [
        "#Visualize the type of breeds in all location USA\n",
        "print('Bottom 100 breeds in shelters across US:')\n",
        "fig = px.funnel(breeds[-100:], y='breed_primary', x='id')\n",
        "fig.show()"
      ]
    },
    {
      "cell_type": "code",
      "execution_count": 94,
      "metadata": {
        "colab": {
          "base_uri": "https://localhost:8080/"
        },
        "id": "PSa9lmEK1Fj6",
        "outputId": "00ec108d-e7a1-4e5d-b2fd-d00c8662dabc"
      },
      "outputs": [
        {
          "output_type": "stream",
          "name": "stdout",
          "text": [
            "Top 10 breeds in the shelters:\n",
            " ['Pit Bull Terrier', 'Labrador Retriever', 'Chihuahua', 'Mixed Breed', 'Terrier', 'Hound', 'German Shepherd Dog', 'Boxer', 'Shepherd', 'American Staffordshire Terrier']\n",
            "\n",
            "Bottom 10 breeds in the shelters:\n",
            " ['Skye Terrier', 'Fila Brasileiro', 'Bolognese', 'Old English Sheepdog', 'Belgian Shepherd / Laekenois', 'Field Spaniel', 'Boykin Spaniel', 'Spinone Italiano', 'Tosa Inu']\n"
          ]
        }
      ],
      "source": [
        "bottom10=breeds.iloc[-10:-1]\n",
        "top10=breeds.iloc[0:10]\n",
        "print('Top 10 breeds in the shelters:\\n', list(top10['breed_primary']))\n",
        "print('\\nBottom 10 breeds in the shelters:\\n', list(bottom10['breed_primary']))\n"
      ]
    },
    {
      "cell_type": "code",
      "execution_count": 95,
      "metadata": {
        "colab": {
          "base_uri": "https://localhost:8080/"
        },
        "id": "OY1R6ejN1Fj6",
        "outputId": "4be03a6d-615c-4aca-9278-246985a014c7"
      },
      "outputs": [
        {
          "output_type": "execute_result",
          "data": {
            "text/plain": [
              "Pit Bull Terrier                  7890\n",
              "Labrador Retriever                7198\n",
              "Chihuahua                         3766\n",
              "Mixed Breed                       3242\n",
              "Terrier                           2641\n",
              "Hound                             2282\n",
              "German Shepherd Dog               2122\n",
              "Boxer                             2050\n",
              "Shepherd                          1972\n",
              "American Staffordshire Terrier    1862\n",
              "Name: breed_primary, dtype: int64"
            ]
          },
          "metadata": {},
          "execution_count": 95
        }
      ],
      "source": [
        "top10_info = top10.merge(alldogs, how = 'left', left_on='breed_primary',right_on='breed_primary')\n",
        "top10_info.breed_primary.value_counts()"
      ]
    },
    {
      "cell_type": "markdown",
      "source": [
        "1. Top breed of dogs are Pit Bull Terrier, Labdrador Retriever. Those are one of the most feared dogs that typically used as guard dogs due to their aggressive physics and characteristics (e.g., Pit Bull Terrier has a jaw with locking mechanism). Thus, they also tend to end up in the adoption shelters more often\n",
        "2. Although the chihuahua are small dogs, the its high population in the shelters could be due to the overbreeding problems due to its popularity as well as its characateristics as an agressive dogs in some cases. [Click here for more information](https://rescuedoghome.com/why-are-there-so-many-pit-bulls-and-chihuahuas-in-shelters/#Chihuahuas_in_Shelters)\n",
        "\n",
        "\n"
      ],
      "metadata": {
        "id": "3SOSb-TGIcbL"
      }
    }
  ],
  "metadata": {
    "kernelspec": {
      "display_name": "Python 3",
      "language": "python",
      "name": "python3"
    },
    "language_info": {
      "codemirror_mode": {
        "name": "ipython",
        "version": 3
      },
      "file_extension": ".py",
      "mimetype": "text/x-python",
      "name": "python",
      "nbconvert_exporter": "python",
      "pygments_lexer": "ipython3",
      "version": "3.7.1"
    },
    "colab": {
      "provenance": [],
      "toc_visible": true
    }
  },
  "nbformat": 4,
  "nbformat_minor": 0
}